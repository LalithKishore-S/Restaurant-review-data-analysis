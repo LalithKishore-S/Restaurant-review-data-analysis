{
  "cells": [
    {
      "cell_type": "markdown",
      "metadata": {
        "id": "1315M2g-7lHY"
      },
      "source": [
        "Imports"
      ]
    },
    {
      "cell_type": "code",
      "execution_count": 1,
      "metadata": {
        "id": "7Pp0Sv9u7lHb",
        "colab": {
          "base_uri": "https://localhost:8080/"
        },
        "outputId": "2e9fe52c-8fcb-46a0-c37d-ddf020b76e8d"
      },
      "outputs": [
        {
          "output_type": "stream",
          "name": "stderr",
          "text": [
            "[nltk_data] Downloading package stopwords to /root/nltk_data...\n",
            "[nltk_data]   Unzipping corpora/stopwords.zip.\n"
          ]
        }
      ],
      "source": [
        "import pandas as pd\n",
        "import numpy as np\n",
        "import matplotlib.pyplot as plt\n",
        "from sklearn.impute import SimpleImputer\n",
        "from sklearn.compose import ColumnTransformer\n",
        "from sklearn.preprocessing import OneHotEncoder,StandardScaler,LabelEncoder\n",
        "from sklearn.model_selection import train_test_split\n",
        "from sklearn.linear_model import LogisticRegression\n",
        "from sklearn.metrics import r2_score\n",
        "from sklearn.tree import DecisionTreeClassifier\n",
        "from sklearn.metrics import confusion_matrix,accuracy_score\n",
        "from sklearn.ensemble import RandomForestClassifier\n",
        "import re\n",
        "import nltk\n",
        "nltk.download('stopwords')\n",
        "from nltk.corpus import stopwords\n",
        "from nltk.stem.porter import PorterStemmer\n",
        "from sklearn.feature_extraction.text import CountVectorizer\n",
        "from sklearn.neighbors import KNeighborsClassifier"
      ]
    },
    {
      "cell_type": "code",
      "execution_count": 2,
      "metadata": {
        "colab": {
          "base_uri": "https://localhost:8080/",
          "height": 206
        },
        "id": "6HHQs2my7lHd",
        "outputId": "6e167024-6c4e-4e13-aecc-087095603ab4"
      },
      "outputs": [
        {
          "output_type": "execute_result",
          "data": {
            "text/plain": [
              "        Restaurant              Reviewer  \\\n",
              "0  Beyond Flavours     Rusha Chakraborty   \n",
              "1  Beyond Flavours  Anusha Tirumalaneedi   \n",
              "2  Beyond Flavours       Ashok Shekhawat   \n",
              "3  Beyond Flavours        Swapnil Sarkar   \n",
              "4  Beyond Flavours                Dileep   \n",
              "\n",
              "                                              Review Rating  \\\n",
              "0  The ambience was good, food was quite good . h...      5   \n",
              "1  Ambience is too good for a pleasant evening. S...      5   \n",
              "2  A must try.. great food great ambience. Thnx f...      5   \n",
              "3  Soumen das and Arun was a great guy. Only beca...      5   \n",
              "4  Food is good.we ordered Kodi drumsticks and ba...      5   \n",
              "\n",
              "                  Metadata             Time  Pictures  \n",
              "0   1 Review , 2 Followers  5/25/2019 15:54         0  \n",
              "1  3 Reviews , 2 Followers  5/25/2019 14:20         0  \n",
              "2  2 Reviews , 3 Followers  5/24/2019 22:54         0  \n",
              "3    1 Review , 1 Follower  5/24/2019 22:11         0  \n",
              "4  3 Reviews , 2 Followers  5/24/2019 21:37         0  "
            ],
            "text/html": [
              "\n",
              "  <div id=\"df-808dca01-e068-4f20-884c-8bb4cc89ea3d\" class=\"colab-df-container\">\n",
              "    <div>\n",
              "<style scoped>\n",
              "    .dataframe tbody tr th:only-of-type {\n",
              "        vertical-align: middle;\n",
              "    }\n",
              "\n",
              "    .dataframe tbody tr th {\n",
              "        vertical-align: top;\n",
              "    }\n",
              "\n",
              "    .dataframe thead th {\n",
              "        text-align: right;\n",
              "    }\n",
              "</style>\n",
              "<table border=\"1\" class=\"dataframe\">\n",
              "  <thead>\n",
              "    <tr style=\"text-align: right;\">\n",
              "      <th></th>\n",
              "      <th>Restaurant</th>\n",
              "      <th>Reviewer</th>\n",
              "      <th>Review</th>\n",
              "      <th>Rating</th>\n",
              "      <th>Metadata</th>\n",
              "      <th>Time</th>\n",
              "      <th>Pictures</th>\n",
              "    </tr>\n",
              "  </thead>\n",
              "  <tbody>\n",
              "    <tr>\n",
              "      <th>0</th>\n",
              "      <td>Beyond Flavours</td>\n",
              "      <td>Rusha Chakraborty</td>\n",
              "      <td>The ambience was good, food was quite good . h...</td>\n",
              "      <td>5</td>\n",
              "      <td>1 Review , 2 Followers</td>\n",
              "      <td>5/25/2019 15:54</td>\n",
              "      <td>0</td>\n",
              "    </tr>\n",
              "    <tr>\n",
              "      <th>1</th>\n",
              "      <td>Beyond Flavours</td>\n",
              "      <td>Anusha Tirumalaneedi</td>\n",
              "      <td>Ambience is too good for a pleasant evening. S...</td>\n",
              "      <td>5</td>\n",
              "      <td>3 Reviews , 2 Followers</td>\n",
              "      <td>5/25/2019 14:20</td>\n",
              "      <td>0</td>\n",
              "    </tr>\n",
              "    <tr>\n",
              "      <th>2</th>\n",
              "      <td>Beyond Flavours</td>\n",
              "      <td>Ashok Shekhawat</td>\n",
              "      <td>A must try.. great food great ambience. Thnx f...</td>\n",
              "      <td>5</td>\n",
              "      <td>2 Reviews , 3 Followers</td>\n",
              "      <td>5/24/2019 22:54</td>\n",
              "      <td>0</td>\n",
              "    </tr>\n",
              "    <tr>\n",
              "      <th>3</th>\n",
              "      <td>Beyond Flavours</td>\n",
              "      <td>Swapnil Sarkar</td>\n",
              "      <td>Soumen das and Arun was a great guy. Only beca...</td>\n",
              "      <td>5</td>\n",
              "      <td>1 Review , 1 Follower</td>\n",
              "      <td>5/24/2019 22:11</td>\n",
              "      <td>0</td>\n",
              "    </tr>\n",
              "    <tr>\n",
              "      <th>4</th>\n",
              "      <td>Beyond Flavours</td>\n",
              "      <td>Dileep</td>\n",
              "      <td>Food is good.we ordered Kodi drumsticks and ba...</td>\n",
              "      <td>5</td>\n",
              "      <td>3 Reviews , 2 Followers</td>\n",
              "      <td>5/24/2019 21:37</td>\n",
              "      <td>0</td>\n",
              "    </tr>\n",
              "  </tbody>\n",
              "</table>\n",
              "</div>\n",
              "    <div class=\"colab-df-buttons\">\n",
              "\n",
              "  <div class=\"colab-df-container\">\n",
              "    <button class=\"colab-df-convert\" onclick=\"convertToInteractive('df-808dca01-e068-4f20-884c-8bb4cc89ea3d')\"\n",
              "            title=\"Convert this dataframe to an interactive table.\"\n",
              "            style=\"display:none;\">\n",
              "\n",
              "  <svg xmlns=\"http://www.w3.org/2000/svg\" height=\"24px\" viewBox=\"0 -960 960 960\">\n",
              "    <path d=\"M120-120v-720h720v720H120Zm60-500h600v-160H180v160Zm220 220h160v-160H400v160Zm0 220h160v-160H400v160ZM180-400h160v-160H180v160Zm440 0h160v-160H620v160ZM180-180h160v-160H180v160Zm440 0h160v-160H620v160Z\"/>\n",
              "  </svg>\n",
              "    </button>\n",
              "\n",
              "  <style>\n",
              "    .colab-df-container {\n",
              "      display:flex;\n",
              "      gap: 12px;\n",
              "    }\n",
              "\n",
              "    .colab-df-convert {\n",
              "      background-color: #E8F0FE;\n",
              "      border: none;\n",
              "      border-radius: 50%;\n",
              "      cursor: pointer;\n",
              "      display: none;\n",
              "      fill: #1967D2;\n",
              "      height: 32px;\n",
              "      padding: 0 0 0 0;\n",
              "      width: 32px;\n",
              "    }\n",
              "\n",
              "    .colab-df-convert:hover {\n",
              "      background-color: #E2EBFA;\n",
              "      box-shadow: 0px 1px 2px rgba(60, 64, 67, 0.3), 0px 1px 3px 1px rgba(60, 64, 67, 0.15);\n",
              "      fill: #174EA6;\n",
              "    }\n",
              "\n",
              "    .colab-df-buttons div {\n",
              "      margin-bottom: 4px;\n",
              "    }\n",
              "\n",
              "    [theme=dark] .colab-df-convert {\n",
              "      background-color: #3B4455;\n",
              "      fill: #D2E3FC;\n",
              "    }\n",
              "\n",
              "    [theme=dark] .colab-df-convert:hover {\n",
              "      background-color: #434B5C;\n",
              "      box-shadow: 0px 1px 3px 1px rgba(0, 0, 0, 0.15);\n",
              "      filter: drop-shadow(0px 1px 2px rgba(0, 0, 0, 0.3));\n",
              "      fill: #FFFFFF;\n",
              "    }\n",
              "  </style>\n",
              "\n",
              "    <script>\n",
              "      const buttonEl =\n",
              "        document.querySelector('#df-808dca01-e068-4f20-884c-8bb4cc89ea3d button.colab-df-convert');\n",
              "      buttonEl.style.display =\n",
              "        google.colab.kernel.accessAllowed ? 'block' : 'none';\n",
              "\n",
              "      async function convertToInteractive(key) {\n",
              "        const element = document.querySelector('#df-808dca01-e068-4f20-884c-8bb4cc89ea3d');\n",
              "        const dataTable =\n",
              "          await google.colab.kernel.invokeFunction('convertToInteractive',\n",
              "                                                    [key], {});\n",
              "        if (!dataTable) return;\n",
              "\n",
              "        const docLinkHtml = 'Like what you see? Visit the ' +\n",
              "          '<a target=\"_blank\" href=https://colab.research.google.com/notebooks/data_table.ipynb>data table notebook</a>'\n",
              "          + ' to learn more about interactive tables.';\n",
              "        element.innerHTML = '';\n",
              "        dataTable['output_type'] = 'display_data';\n",
              "        await google.colab.output.renderOutput(dataTable, element);\n",
              "        const docLink = document.createElement('div');\n",
              "        docLink.innerHTML = docLinkHtml;\n",
              "        element.appendChild(docLink);\n",
              "      }\n",
              "    </script>\n",
              "  </div>\n",
              "\n",
              "\n",
              "<div id=\"df-60742fd6-12f7-4958-9cbc-9638d40b8274\">\n",
              "  <button class=\"colab-df-quickchart\" onclick=\"quickchart('df-60742fd6-12f7-4958-9cbc-9638d40b8274')\"\n",
              "            title=\"Suggest charts\"\n",
              "            style=\"display:none;\">\n",
              "\n",
              "<svg xmlns=\"http://www.w3.org/2000/svg\" height=\"24px\"viewBox=\"0 0 24 24\"\n",
              "     width=\"24px\">\n",
              "    <g>\n",
              "        <path d=\"M19 3H5c-1.1 0-2 .9-2 2v14c0 1.1.9 2 2 2h14c1.1 0 2-.9 2-2V5c0-1.1-.9-2-2-2zM9 17H7v-7h2v7zm4 0h-2V7h2v10zm4 0h-2v-4h2v4z\"/>\n",
              "    </g>\n",
              "</svg>\n",
              "  </button>\n",
              "\n",
              "<style>\n",
              "  .colab-df-quickchart {\n",
              "      --bg-color: #E8F0FE;\n",
              "      --fill-color: #1967D2;\n",
              "      --hover-bg-color: #E2EBFA;\n",
              "      --hover-fill-color: #174EA6;\n",
              "      --disabled-fill-color: #AAA;\n",
              "      --disabled-bg-color: #DDD;\n",
              "  }\n",
              "\n",
              "  [theme=dark] .colab-df-quickchart {\n",
              "      --bg-color: #3B4455;\n",
              "      --fill-color: #D2E3FC;\n",
              "      --hover-bg-color: #434B5C;\n",
              "      --hover-fill-color: #FFFFFF;\n",
              "      --disabled-bg-color: #3B4455;\n",
              "      --disabled-fill-color: #666;\n",
              "  }\n",
              "\n",
              "  .colab-df-quickchart {\n",
              "    background-color: var(--bg-color);\n",
              "    border: none;\n",
              "    border-radius: 50%;\n",
              "    cursor: pointer;\n",
              "    display: none;\n",
              "    fill: var(--fill-color);\n",
              "    height: 32px;\n",
              "    padding: 0;\n",
              "    width: 32px;\n",
              "  }\n",
              "\n",
              "  .colab-df-quickchart:hover {\n",
              "    background-color: var(--hover-bg-color);\n",
              "    box-shadow: 0 1px 2px rgba(60, 64, 67, 0.3), 0 1px 3px 1px rgba(60, 64, 67, 0.15);\n",
              "    fill: var(--button-hover-fill-color);\n",
              "  }\n",
              "\n",
              "  .colab-df-quickchart-complete:disabled,\n",
              "  .colab-df-quickchart-complete:disabled:hover {\n",
              "    background-color: var(--disabled-bg-color);\n",
              "    fill: var(--disabled-fill-color);\n",
              "    box-shadow: none;\n",
              "  }\n",
              "\n",
              "  .colab-df-spinner {\n",
              "    border: 2px solid var(--fill-color);\n",
              "    border-color: transparent;\n",
              "    border-bottom-color: var(--fill-color);\n",
              "    animation:\n",
              "      spin 1s steps(1) infinite;\n",
              "  }\n",
              "\n",
              "  @keyframes spin {\n",
              "    0% {\n",
              "      border-color: transparent;\n",
              "      border-bottom-color: var(--fill-color);\n",
              "      border-left-color: var(--fill-color);\n",
              "    }\n",
              "    20% {\n",
              "      border-color: transparent;\n",
              "      border-left-color: var(--fill-color);\n",
              "      border-top-color: var(--fill-color);\n",
              "    }\n",
              "    30% {\n",
              "      border-color: transparent;\n",
              "      border-left-color: var(--fill-color);\n",
              "      border-top-color: var(--fill-color);\n",
              "      border-right-color: var(--fill-color);\n",
              "    }\n",
              "    40% {\n",
              "      border-color: transparent;\n",
              "      border-right-color: var(--fill-color);\n",
              "      border-top-color: var(--fill-color);\n",
              "    }\n",
              "    60% {\n",
              "      border-color: transparent;\n",
              "      border-right-color: var(--fill-color);\n",
              "    }\n",
              "    80% {\n",
              "      border-color: transparent;\n",
              "      border-right-color: var(--fill-color);\n",
              "      border-bottom-color: var(--fill-color);\n",
              "    }\n",
              "    90% {\n",
              "      border-color: transparent;\n",
              "      border-bottom-color: var(--fill-color);\n",
              "    }\n",
              "  }\n",
              "</style>\n",
              "\n",
              "  <script>\n",
              "    async function quickchart(key) {\n",
              "      const quickchartButtonEl =\n",
              "        document.querySelector('#' + key + ' button');\n",
              "      quickchartButtonEl.disabled = true;  // To prevent multiple clicks.\n",
              "      quickchartButtonEl.classList.add('colab-df-spinner');\n",
              "      try {\n",
              "        const charts = await google.colab.kernel.invokeFunction(\n",
              "            'suggestCharts', [key], {});\n",
              "      } catch (error) {\n",
              "        console.error('Error during call to suggestCharts:', error);\n",
              "      }\n",
              "      quickchartButtonEl.classList.remove('colab-df-spinner');\n",
              "      quickchartButtonEl.classList.add('colab-df-quickchart-complete');\n",
              "    }\n",
              "    (() => {\n",
              "      let quickchartButtonEl =\n",
              "        document.querySelector('#df-60742fd6-12f7-4958-9cbc-9638d40b8274 button');\n",
              "      quickchartButtonEl.style.display =\n",
              "        google.colab.kernel.accessAllowed ? 'block' : 'none';\n",
              "    })();\n",
              "  </script>\n",
              "</div>\n",
              "\n",
              "    </div>\n",
              "  </div>\n"
            ],
            "application/vnd.google.colaboratory.intrinsic+json": {
              "type": "dataframe",
              "variable_name": "data",
              "summary": "{\n  \"name\": \"data\",\n  \"rows\": 10000,\n  \"fields\": [\n    {\n      \"column\": \"Restaurant\",\n      \"properties\": {\n        \"dtype\": \"category\",\n        \"num_unique_values\": 100,\n        \"samples\": [\n          \"GD's\",\n          \"Diners Pavilion\",\n          \"Urban Asia - Kitchen & Bar\"\n        ],\n        \"semantic_type\": \"\",\n        \"description\": \"\"\n      }\n    },\n    {\n      \"column\": \"Reviewer\",\n      \"properties\": {\n        \"dtype\": \"string\",\n        \"num_unique_values\": 7446,\n        \"samples\": [\n          \"Ramana\",\n          \"Marupakula Mahati\",\n          \"Sandeep Das\"\n        ],\n        \"semantic_type\": \"\",\n        \"description\": \"\"\n      }\n    },\n    {\n      \"column\": \"Review\",\n      \"properties\": {\n        \"dtype\": \"string\",\n        \"num_unique_values\": 9364,\n        \"samples\": [\n          \"I had chosen this place for a weekend to spend quality time with my friends, overall can giving ratings for:\\nAmbiance - 10/10\\nFood - 5/10\\nMusic- 5/10\",\n          \"good location and menu\\nat first it seemed like an ordinary place, but had a good feel to it\\naccording to food the prices are quite high, not like the ingredients are imported.\\nfood was decent and so were the drinks\\nover an average experience\",\n          \"I stayed at Hyatt for over a week and every single day I was surprised to see something new on the buffet spread.\\nThe choice and variety is exemplary!\\nThe food is pretty delicious as well.\\nI recommend trying the pancakes !\"\n        ],\n        \"semantic_type\": \"\",\n        \"description\": \"\"\n      }\n    },\n    {\n      \"column\": \"Rating\",\n      \"properties\": {\n        \"dtype\": \"category\",\n        \"num_unique_values\": 10,\n        \"samples\": [\n          \"1.5\",\n          \"4\",\n          \"3.5\"\n        ],\n        \"semantic_type\": \"\",\n        \"description\": \"\"\n      }\n    },\n    {\n      \"column\": \"Metadata\",\n      \"properties\": {\n        \"dtype\": \"category\",\n        \"num_unique_values\": 2477,\n        \"samples\": [\n          \"52 Reviews , 97 Followers\",\n          \"62 Reviews , 118 Followers\",\n          \"50 Reviews , 161 Followers\"\n        ],\n        \"semantic_type\": \"\",\n        \"description\": \"\"\n      }\n    },\n    {\n      \"column\": \"Time\",\n      \"properties\": {\n        \"dtype\": \"object\",\n        \"num_unique_values\": 9782,\n        \"samples\": [\n          \"3/9/2019 17:31\",\n          \"4/26/2019 13:36\",\n          \"9/23/2018 18:25\"\n        ],\n        \"semantic_type\": \"\",\n        \"description\": \"\"\n      }\n    },\n    {\n      \"column\": \"Pictures\",\n      \"properties\": {\n        \"dtype\": \"number\",\n        \"std\": 2,\n        \"min\": 0,\n        \"max\": 64,\n        \"num_unique_values\": 36,\n        \"samples\": [\n          32,\n          15,\n          42\n        ],\n        \"semantic_type\": \"\",\n        \"description\": \"\"\n      }\n    }\n  ]\n}"
            }
          },
          "metadata": {},
          "execution_count": 2
        }
      ],
      "source": [
        "data=pd.read_csv('Restaurant_reviews.csv')\n",
        "\n",
        "data.head()"
      ]
    },
    {
      "cell_type": "markdown",
      "metadata": {
        "id": "hfjO9TEN7lHe"
      },
      "source": [
        "Data *Preprocessing*"
      ]
    },
    {
      "cell_type": "code",
      "execution_count": 3,
      "metadata": {
        "colab": {
          "base_uri": "https://localhost:8080/"
        },
        "id": "Fuu_CFdt7lHe",
        "outputId": "ec74a4df-09ac-4a1d-bb49-32b3c7a156ad"
      },
      "outputs": [
        {
          "output_type": "stream",
          "name": "stdout",
          "text": [
            "<class 'pandas.core.frame.DataFrame'>\n",
            "RangeIndex: 10000 entries, 0 to 9999\n",
            "Data columns (total 7 columns):\n",
            " #   Column      Non-Null Count  Dtype \n",
            "---  ------      --------------  ----- \n",
            " 0   Restaurant  10000 non-null  object\n",
            " 1   Reviewer    9962 non-null   object\n",
            " 2   Review      9955 non-null   object\n",
            " 3   Rating      9962 non-null   object\n",
            " 4   Metadata    9962 non-null   object\n",
            " 5   Time        9962 non-null   object\n",
            " 6   Pictures    10000 non-null  int64 \n",
            "dtypes: int64(1), object(6)\n",
            "memory usage: 547.0+ KB\n"
          ]
        }
      ],
      "source": [
        "data.info()\n",
        "data['Time']=pd.to_datetime(data['Time'])"
      ]
    },
    {
      "cell_type": "code",
      "source": [
        "data.isnull().sum()"
      ],
      "metadata": {
        "colab": {
          "base_uri": "https://localhost:8080/"
        },
        "id": "teYq7-GCS4ye",
        "outputId": "09db1fbe-503a-4a89-b10d-2ac5e2e8cb7c"
      },
      "execution_count": 4,
      "outputs": [
        {
          "output_type": "execute_result",
          "data": {
            "text/plain": [
              "Restaurant     0\n",
              "Reviewer      38\n",
              "Review        45\n",
              "Rating        38\n",
              "Metadata      38\n",
              "Time          38\n",
              "Pictures       0\n",
              "dtype: int64"
            ]
          },
          "metadata": {},
          "execution_count": 4
        }
      ]
    },
    {
      "cell_type": "code",
      "execution_count": 5,
      "metadata": {
        "colab": {
          "base_uri": "https://localhost:8080/"
        },
        "id": "m9IMy0EY7lHe",
        "outputId": "70c696b2-4ffb-4b76-e582-2214cfaaef1c"
      },
      "outputs": [
        {
          "output_type": "stream",
          "name": "stderr",
          "text": [
            "<ipython-input-5-837e94458ad7>:3: SettingWithCopyWarning: \n",
            "A value is trying to be set on a copy of a slice from a DataFrame.\n",
            "Try using .loc[row_indexer,col_indexer] = value instead\n",
            "\n",
            "See the caveats in the documentation: https://pandas.pydata.org/pandas-docs/stable/user_guide/indexing.html#returning-a-view-versus-a-copy\n",
            "  data['Rating']=data['Rating'].apply(lambda x:'2.5' if x=='Like' else x)\n",
            "<ipython-input-5-837e94458ad7>:4: SettingWithCopyWarning: \n",
            "A value is trying to be set on a copy of a slice from a DataFrame.\n",
            "Try using .loc[row_indexer,col_indexer] = value instead\n",
            "\n",
            "See the caveats in the documentation: https://pandas.pydata.org/pandas-docs/stable/user_guide/indexing.html#returning-a-view-versus-a-copy\n",
            "  data['Rating']=data['Rating'].astype(float)\n"
          ]
        },
        {
          "output_type": "execute_result",
          "data": {
            "text/plain": [
              "Restaurant    0\n",
              "Reviewer      0\n",
              "Review        7\n",
              "Rating        0\n",
              "Metadata      0\n",
              "Time          0\n",
              "Pictures      0\n",
              "dtype: int64"
            ]
          },
          "metadata": {},
          "execution_count": 5
        }
      ],
      "source": [
        "data=data.dropna(subset=['Rating'])\n",
        "data.reset_index(drop=True, inplace=True)\n",
        "data['Rating']=data['Rating'].apply(lambda x:'2.5' if x=='Like' else x)\n",
        "data['Rating']=data['Rating'].astype(float)\n",
        "\n",
        "#Found out that the ratings were given as strings and it would be easier to comprehend it as numbers\n",
        "#Also found some ratings were given as 'Like' and changed it to have a moderate rating of 2.5\n",
        "data.isnull().sum()"
      ]
    },
    {
      "cell_type": "code",
      "execution_count": 6,
      "metadata": {
        "colab": {
          "base_uri": "https://localhost:8080/"
        },
        "id": "St_U1KlD7lHf",
        "outputId": "e17f0619-c9f1-427a-c080-eaebc8b785dd"
      },
      "outputs": [
        {
          "output_type": "stream",
          "name": "stderr",
          "text": [
            "<ipython-input-6-e75fc74f8bbf>:3: SettingWithCopyWarning: \n",
            "A value is trying to be set on a copy of a slice from a DataFrame.\n",
            "Try using .loc[row_indexer,col_indexer] = value instead\n",
            "\n",
            "See the caveats in the documentation: https://pandas.pydata.org/pandas-docs/stable/user_guide/indexing.html#returning-a-view-versus-a-copy\n",
            "  data[['Review']] = imputers.fit_transform(data[['Review']])\n"
          ]
        },
        {
          "output_type": "execute_result",
          "data": {
            "text/plain": [
              "Restaurant    0\n",
              "Reviewer      0\n",
              "Review        0\n",
              "Rating        0\n",
              "Metadata      0\n",
              "Time          0\n",
              "Pictures      0\n",
              "dtype: int64"
            ]
          },
          "metadata": {},
          "execution_count": 6
        }
      ],
      "source": [
        "imputers = SimpleImputer(strategy='constant', fill_value='Review unavailable')\n",
        "\n",
        "data[['Review']] = imputers.fit_transform(data[['Review']])\n",
        "\n",
        "data.isnull().sum()"
      ]
    },
    {
      "cell_type": "code",
      "execution_count": 7,
      "metadata": {
        "colab": {
          "base_uri": "https://localhost:8080/"
        },
        "id": "ld1MvePm7lHf",
        "outputId": "07c3e6ba-8be9-4ea0-ef88-794cc5e71c9b"
      },
      "outputs": [
        {
          "output_type": "stream",
          "name": "stdout",
          "text": [
            "Empty DataFrame\n",
            "Columns: [Restaurant, Reviewer, Review, Rating, Metadata, Time, Pictures]\n",
            "Index: []\n"
          ]
        }
      ],
      "source": [
        "duplicate_rows = data.duplicated()\n",
        "print(data[duplicate_rows])"
      ]
    },
    {
      "cell_type": "code",
      "execution_count": 8,
      "metadata": {
        "colab": {
          "base_uri": "https://localhost:8080/"
        },
        "id": "DS6QCSqD7lHf",
        "outputId": "fa708b64-bc52-4ab9-cfd0-87a58bf5e938"
      },
      "outputs": [
        {
          "output_type": "stream",
          "name": "stdout",
          "text": [
            "                         Reviewer  Nos_Reviews  Nos_followers\n",
            "9663                    #FOODPORN           35           5873\n",
            "614           #chloesviews // CAH            3              1\n",
            "2420                         $ign           50             55\n",
            "4619                     4mybanti            7              4\n",
            "9945  @FuloriBinaChutneyKaiseBani           86            244\n"
          ]
        },
        {
          "output_type": "stream",
          "name": "stderr",
          "text": [
            "<ipython-input-8-71a7ec53eb4d>:11: SettingWithCopyWarning: \n",
            "A value is trying to be set on a copy of a slice from a DataFrame.\n",
            "Try using .loc[row_indexer,col_indexer] = value instead\n",
            "\n",
            "See the caveats in the documentation: https://pandas.pydata.org/pandas-docs/stable/user_guide/indexing.html#returning-a-view-versus-a-copy\n",
            "  temp['Nos_Reviews']=temp1[0].str.extract('(\\d+)').astype(int)\n",
            "<ipython-input-8-71a7ec53eb4d>:12: SettingWithCopyWarning: \n",
            "A value is trying to be set on a copy of a slice from a DataFrame.\n",
            "Try using .loc[row_indexer,col_indexer] = value instead\n",
            "\n",
            "See the caveats in the documentation: https://pandas.pydata.org/pandas-docs/stable/user_guide/indexing.html#returning-a-view-versus-a-copy\n",
            "  temp['Nos_followers']=temp1[1].str.extract('(\\d+)').astype(int)\n"
          ]
        }
      ],
      "source": [
        "# creating separate dataframe for reviewers and removing the metadata column from the common data table\n",
        "data_sorted=data.sort_values(by=['Reviewer','Time'],ascending=[True,False])\n",
        "temp=data_sorted.drop_duplicates(subset=['Reviewer'],keep='first')\n",
        "temp1=temp['Metadata'].str.split(',',expand=True)\n",
        "\n",
        "temp1.isnull().sum()\n",
        "temp1[0].fillna('1',inplace=True)\n",
        "temp1[1].fillna('0',inplace=True)\n",
        "\n",
        "#print(temp)\n",
        "temp['Nos_Reviews']=temp1[0].str.extract('(\\d+)').astype(int)\n",
        "temp['Nos_followers']=temp1[1].str.extract('(\\d+)').astype(int)\n",
        "reviewer_data=temp[['Reviewer','Nos_Reviews','Nos_followers']]\n",
        "print(reviewer_data.head())\n",
        "\n",
        "#print(reviewer_data[reviewer_data['Reviewer']=='G. Sushmitha Reddy'])\n",
        "\n",
        "data=data.drop(columns=['Metadata'])\n"
      ]
    },
    {
      "cell_type": "code",
      "source": [
        "#Processing Reviews in an attempt to keep only words which are influential in deciding if it is a positive or negative review\n",
        "review_modified=[]\n",
        "stop_words=list(stopwords.words('english'))\n",
        "stop_words.remove('not')\n",
        "for i in range(len(data['Review'])):\n",
        "   review = re.sub('[^a-zA-Z]',' ',data['Review'][i])\n",
        "   review=review.lower()\n",
        "   review=review.split()\n",
        "   ps=PorterStemmer()\n",
        "   review=[ps.stem(word) for word in review if word not in stop_words]\n",
        "   review=' '.join(review)\n",
        "   review_modified.append(review)\n",
        "data['Review']=review_modified\n",
        "\n",
        "print(data.head())\n"
      ],
      "metadata": {
        "colab": {
          "base_uri": "https://localhost:8080/"
        },
        "id": "YHZwWT7X7hmi",
        "outputId": "78c3fc2e-4a4f-4886-e887-5553f013b22c"
      },
      "execution_count": 9,
      "outputs": [
        {
          "output_type": "stream",
          "name": "stdout",
          "text": [
            "        Restaurant              Reviewer  \\\n",
            "0  Beyond Flavours     Rusha Chakraborty   \n",
            "1  Beyond Flavours  Anusha Tirumalaneedi   \n",
            "2  Beyond Flavours       Ashok Shekhawat   \n",
            "3  Beyond Flavours        Swapnil Sarkar   \n",
            "4  Beyond Flavours                Dileep   \n",
            "\n",
            "                                              Review  Rating  \\\n",
            "0  ambienc good food quit good saturday lunch cos...     5.0   \n",
            "1  ambienc good pleasant even servic prompt food ...     5.0   \n",
            "2  must tri great food great ambienc thnx servic ...     5.0   \n",
            "3  soumen da arun great guy behavior sincereti go...     5.0   \n",
            "4  food good order kodi drumstick basket mutton b...     5.0   \n",
            "\n",
            "                 Time  Pictures  \n",
            "0 2019-05-25 15:54:00         0  \n",
            "1 2019-05-25 14:20:00         0  \n",
            "2 2019-05-24 22:54:00         0  \n",
            "3 2019-05-24 22:11:00         0  \n",
            "4 2019-05-24 21:37:00         0  \n"
          ]
        }
      ]
    },
    {
      "cell_type": "markdown",
      "metadata": {
        "id": "wKmfjfrg7lHf"
      },
      "source": [
        "EDA"
      ]
    },
    {
      "cell_type": "code",
      "source": [
        "print(\"The Most popular Reviewer is :\\n\")\n",
        "print(reviewer_data[reviewer_data['Nos_followers']==reviewer_data['Nos_followers'].max()])"
      ],
      "metadata": {
        "colab": {
          "base_uri": "https://localhost:8080/"
        },
        "id": "P4Rk2TtDA6GG",
        "outputId": "788a8bff-c82d-4698-bbce-e8f6675ae014"
      },
      "execution_count": 10,
      "outputs": [
        {
          "output_type": "stream",
          "name": "stdout",
          "text": [
            "The Most popular Reviewer is :\n",
            "\n",
            "             Reviewer  Nos_Reviews  Nos_followers\n",
            "3927  Satwinder Singh          186          13410\n"
          ]
        }
      ]
    },
    {
      "cell_type": "code",
      "execution_count": 11,
      "metadata": {
        "colab": {
          "base_uri": "https://localhost:8080/"
        },
        "id": "ICyRKcBU7lHg",
        "outputId": "304812eb-9262-4233-ce81-9a946823cc5a"
      },
      "outputs": [
        {
          "output_type": "stream",
          "name": "stdout",
          "text": [
            "The total no of different restaurants :\n",
            " 100\n",
            "The different restaurants are :\n",
            "['Beyond Flavours', 'Paradise', 'Flechazo', 'Shah Ghouse Hotel & Restaurant', 'Over The Moon Brew Company', \"The Fisherman's Wharf\", 'eat.fit', 'Shah Ghouse Spl Shawarma', 'Hyper Local', 'Cream Stone', \"Sardarji's Chaats & More\", 'Barbeque Nation', 'Absolute Sizzlers', 'The Lal Street - Bar Exchange', \"AB's - Absolute Barbecues\", 'KFC', 'NorFest - The Dhaba', 'Hotel Zara Hi-Fi', '10 Downing Street', 'Pakwaan Grand', '13 Dhaba', \"Jonathan's Kitchen - Holiday Inn Express & Suites\", 'B-Dubs', 'Amul', 'SKYHY', 'Tiki Shack', 'Mustang Terrace Lounge', \"3B's - Buddies, Bar & Barbecue\", 'Behrouz Biryani', 'Hunger Maggi Point', 'Pot Pourri', 'Pista House', 'Marsala Food Company', 'Club Rogue', 'Mazzo - Marriott Executive Apartments', 'Green Bawarchi Restaurant', 'Banana Leaf Multicuisine Restaurant', 'Kritunga Restaurant', 'The Glass Onion', 'Deli 9 Bistro', 'Frio Bistro', 'Karachi Bakery', 'Karachi Cafe', 'The Foodie Monster Kitchen', 'La La Land - Bar & Kitchen', 'Owm Nom Nom', 'Ulavacharu', 'Shanghai Chef 2', \"Udipi's Upahar\", 'Mathura Vilas', 'Gal Punjab Di', 'Hitech Bawarchi Food Zone', 'Biryanis And More', 'Diners Pavilion', 'Asian Meal Box', 'Cafe Eclat', 'Feast - Sheraton Hyderabad Hotel', 'Being Hungry', 'Tempteys', 'KS Bakers', 'PourHouse7', 'Prism Club & Kitchen', 'Shree Santosh Dhaba Family Restaurant', 'Dine O China', 'Hyderabad Chefs', 'Komatose - Holiday Inn Express & Suites', 'Aromas@11SIX', 'Yum Yum Tree - The Arabian Food Court', 'The Tilt Bar Republic', 'The Indi Grill', 'Urban Asia - Kitchen & Bar', 'Eat India Company', 'Labonel', 'Driven Cafe', 'Faasos', 'Royal Spicy Restaurant', 'The Old Madras Baking Company', 'Squeeze @ The Lime', 'Khaan Saab', 'Olive Garden', 'Tandoori Food Works', 'Delhi-39', 'Al Saba Restaurant', \"GD's\", 'T Grill', 'Momos Delight', 'The Chocolate Room', 'American Wild Wings', \"Domino's Pizza\", 'Mohammedia Shawarma', 'Arena Eleven', 'Cascade - Radisson Hyderabad Hitec City', 'Collage - Hyatt Hyderabad Gachibowli', \"Zing's Northeast Kitchen\", \"Dunkin' Donuts\", 'Desi Bytes', 'Hyderabadi Daawat', 'Zega - Sheraton Hyderabad Hotel', 'Triptify', 'Chinese Pavilion']\n",
            "The total no of different reviewers :\n",
            " 7446\n",
            "Reviewers who have done more than two reviews for the same restaurant:\n",
            "\n",
            "                     Restaurant                Reviewer  Review Count\n",
            "122                    13 Dhaba           Ganesh Jagwan             3\n",
            "718                        Amul             Rahul Nayak             4\n",
            "1481               Being Hungry  Mhicaela Martin Galang             3\n",
            "1492               Being Hungry                   Prite             4\n",
            "1495               Being Hungry   Rajaboinaprashanth333             3\n",
            "1691          Biryanis And More            Reddy Prasad             3\n",
            "2859             Domino's Pizza        Malar Madhav Rao             4\n",
            "3858  Green Bawarchi Restaurant    Nalinikanta Tripathy             3\n",
            "4099           Hotel Zara Hi-Fi                  Venkat             3\n",
            "4119         Hunger Maggi Point            Ashwini Aute             3\n",
            "4262            Hyderabad Chefs             Robin Simon             3\n",
            "4296          Hyderabadi Daawat            ABDUL MAJEED             3\n",
            "6531              Pakwaan Grand           Rahul Jaiswal             4\n",
            "7822         Squeeze @ The Lime         Nishit Vakharia             3\n",
            "9092                   Triptify                   Kiran             4\n",
            "9752                    eat.fit            Afreen Jahan             6\n"
          ]
        }
      ],
      "source": [
        "print(\"The total no of different restaurants :\\n\",len(list(data['Restaurant'].unique())))\n",
        "print(\"The different restaurants are :\")\n",
        "Restaurants=list(data['Restaurant'].unique())\n",
        "print(Restaurants)\n",
        "print(\"The total no of different reviewers :\\n\",len(data['Reviewer'].unique()))\n",
        "\n",
        "#Reviewer who has done more than two reviews for the same restaurant\n",
        "review_counts = data.groupby(['Restaurant', 'Reviewer']).size().reset_index(name='Review Count')\n",
        "frequent_reviewers = review_counts[review_counts['Review Count'] > 2]\n",
        "print(\"Reviewers who have done more than two reviews for the same restaurant:\\n\")\n",
        "print(frequent_reviewers)"
      ]
    },
    {
      "cell_type": "code",
      "execution_count": 12,
      "metadata": {
        "colab": {
          "base_uri": "https://localhost:8080/"
        },
        "id": "PiEMXpg67lHg",
        "outputId": "1375058d-53f6-4cd7-979f-907ab179cbcf"
      },
      "outputs": [
        {
          "output_type": "stream",
          "name": "stdout",
          "text": [
            "The summary stats per restaurant:\n",
            "\n",
            "                               Restaurant  Avg Rating  Min Rating  Max Rating  \\\n",
            "0                       10 Downing Street        3.80         1.0         5.0   \n",
            "1                                13 Dhaba        3.48         1.0         5.0   \n",
            "2          3B's - Buddies, Bar & Barbecue        4.76         1.0         5.0   \n",
            "3               AB's - Absolute Barbecues        4.88         2.0         5.0   \n",
            "4                       Absolute Sizzlers        3.62         1.0         5.0   \n",
            "..                                    ...         ...         ...         ...   \n",
            "95             Urban Asia - Kitchen & Bar        3.65         1.0         5.0   \n",
            "96  Yum Yum Tree - The Arabian Food Court        3.56         1.0         5.0   \n",
            "97        Zega - Sheraton Hyderabad Hotel        4.45         1.0         5.0   \n",
            "98               Zing's Northeast Kitchen        3.65         1.0         5.0   \n",
            "99                                eat.fit        3.20         1.0         5.0   \n",
            "\n",
            "    Rating Count  Total Pictures  Review Count  \n",
            "0            100             105           100  \n",
            "1            100              41           100  \n",
            "2            100              13           100  \n",
            "3            100              24           100  \n",
            "4            100              45           100  \n",
            "..           ...             ...           ...  \n",
            "95           100             178           100  \n",
            "96           100             129           100  \n",
            "97           100              83           100  \n",
            "98           100             121           100  \n",
            "99           100              58           100  \n",
            "\n",
            "[100 rows x 7 columns]\n",
            "The Most preferred Restaurant is : \n",
            "                   Restaurant  Avg Rating\n",
            "3  AB's - Absolute Barbecues        4.88\n",
            "The Least preferred restaurant is : \n",
            "           Restaurant  Avg Rating\n",
            "41  Hotel Zara Hi-Fi         2.4\n"
          ]
        }
      ],
      "source": [
        "rest_group=data.groupby('Restaurant')\n",
        "print(\"The summary stats per restaurant:\\n\")\n",
        "desc=rest_group.agg({'Rating':['mean','min','max','count'],'Pictures': ['sum'],'Review': ['count']}).reset_index()\n",
        "desc.columns = ['Restaurant', 'Avg Rating', 'Min Rating', 'Max Rating', 'Rating Count', 'Total Pictures', 'Review Count']\n",
        "print(desc)\n",
        "#Particular Data Stats\n",
        "#print(desc[desc['Restaurant']=='10 Downing Street'])\n",
        "\n",
        "print(\"The Most preferred Restaurant is : \\n\",desc[['Restaurant','Avg Rating']][desc['Avg Rating']==desc['Avg Rating'].max()])\n",
        "print(\"The Least preferred restaurant is : \\n\",desc[['Restaurant','Avg Rating']][desc['Avg Rating']==desc['Avg Rating'].min()])"
      ]
    },
    {
      "cell_type": "code",
      "execution_count": 13,
      "metadata": {
        "colab": {
          "base_uri": "https://localhost:8080/"
        },
        "id": "LVpcZsJ_7lHh",
        "outputId": "0b977998-ca10-4fd4-85d6-6fd143e23f39"
      },
      "outputs": [
        {
          "output_type": "stream",
          "name": "stdout",
          "text": [
            "Top 5 Restaurants with highest rating :\n",
            "\n",
            "                        Restaurant  Avg Rating\n",
            "3        AB's - Absolute Barbecues        4.88\n",
            "11                          B-Dubs        4.81\n",
            "2   3B's - Buddies, Bar & Barbecue        4.76\n",
            "67                        Paradise        4.70\n",
            "35                        Flechazo        4.66\n",
            "Lowest 5 Restaurants according to the rating :\n",
            "\n",
            "          Restaurant  Avg Rating\n",
            "41  Hotel Zara Hi-Fi       2.400\n",
            "10    Asian Meal Box       2.580\n",
            "66     Pakwaan Grand       2.710\n",
            "57     Mathura Vilas       2.820\n",
            "14   Behrouz Biryani       2.825\n"
          ]
        }
      ],
      "source": [
        "print(\"Top 5 Restaurants with highest rating :\\n\")\n",
        "print(desc[['Restaurant','Avg Rating']].sort_values(by='Avg Rating',ascending=False).head())\n",
        "print(\"Lowest 5 Restaurants according to the rating :\\n\")\n",
        "print(desc[['Restaurant','Avg Rating']].sort_values(by='Avg Rating').head())"
      ]
    },
    {
      "cell_type": "markdown",
      "metadata": {
        "id": "9fMPci417lHh"
      },
      "source": [
        "Plots"
      ]
    },
    {
      "cell_type": "code",
      "source": [
        "ax=data['Reviewer'].value_counts().head(15).plot(kind='bar',title='Top 15 Reviewers based on count')\n",
        "ax.set_ylabel('Count')\n"
      ],
      "metadata": {
        "colab": {
          "base_uri": "https://localhost:8080/",
          "height": 697
        },
        "id": "Ts9mcg7AYWcB",
        "outputId": "75c017d4-7ff4-4c75-f8f5-e65ec8fcc1f0"
      },
      "execution_count": 14,
      "outputs": [
        {
          "output_type": "execute_result",
          "data": {
            "text/plain": [
              "Text(0, 0.5, 'Count')"
            ]
          },
          "metadata": {},
          "execution_count": 14
        },
        {
          "output_type": "display_data",
          "data": {
            "text/plain": [
              "<Figure size 640x480 with 1 Axes>"
            ],
            "image/png": "[encoded data removed]"
          },
          "metadata": {}
        }
      ]
    },
    {
      "cell_type": "code",
      "source": [
        "#Check for normal distribution using CHISQ test\n",
        "from scipy.stats import norm,chisquare,chi2\n",
        "\n",
        "num_bins = 9\n",
        "bins = np.linspace(data['Rating'].min(), data['Rating'].max(), num_bins)\n",
        "print(bins)\n",
        "\n",
        "mu, std = norm.fit(data['Rating'])\n",
        "expected_freq = []\n",
        "for i in range(num_bins-1):\n",
        "    prob = norm.cdf(bins[i+1], mu, std) - norm.cdf(bins[i], mu, std)\n",
        "    expected_freq.append(prob * len(data))\n",
        "\n",
        "expected_freq = np.array(expected_freq)\n",
        "print(expected_freq)\n",
        "observed_freq, _ = np.histogram(data['Rating'], bins=bins)\n",
        "scale_factor = sum(observed_freq) / sum(expected_freq)\n",
        "expected_freq = expected_freq * scale_factor\n",
        "chi2_test,p_val= chisquare(observed_freq, expected_freq)[0:2]\n",
        "\n",
        "print(\"p value :\",p_val)\n",
        "print(\"CHI2 Stat :\",chi2_test)\n",
        "critical_value = chi2.ppf(0.95, num_bins-1)\n",
        "print(\"Critical value at 0.05 level of significance:\", critical_value)\n",
        "\n"
      ],
      "metadata": {
        "colab": {
          "base_uri": "https://localhost:8080/"
        },
        "id": "07vtFhO4Qx9d",
        "outputId": "e524b992-50bf-4dea-b05f-ea45f65eba5b"
      },
      "execution_count": 15,
      "outputs": [
        {
          "output_type": "stream",
          "name": "stdout",
          "text": [
            "[1.  1.5 2.  2.5 3.  3.5 4.  4.5 5. ]\n",
            "[ 384.2590749   616.61365     884.13663392 1132.77792171 1296.85258161\n",
            " 1326.6538033  1212.67907194  990.50110481]\n",
            "p value : 0.0\n",
            "CHI2 Stat : 13243.773242003177\n",
            "Critical value at 0.05 level of significance: 15.50731305586545\n"
          ]
        }
      ]
    },
    {
      "cell_type": "code",
      "source": [
        "data['Rating'].plot(kind='kde')"
      ],
      "metadata": {
        "colab": {
          "base_uri": "https://localhost:8080/",
          "height": 447
        },
        "id": "oMGmpSwQZlgY",
        "outputId": "2744741f-36c8-42f4-f60b-3885bf4c9e32"
      },
      "execution_count": 16,
      "outputs": [
        {
          "output_type": "execute_result",
          "data": {
            "text/plain": [
              "<Axes: ylabel='Density'>"
            ]
          },
          "metadata": {},
          "execution_count": 16
        },
        {
          "output_type": "display_data",
          "data": {
            "text/plain": [
              "<Figure size 640x480 with 1 Axes>"
            ],
            "image/png": "[encoded data removed]"
          },
          "metadata": {}
        }
      ]
    },
    {
      "cell_type": "code",
      "source": [
        "data[data['Restaurant']=='AB\\'s - Absolute Barbecues']['Rating'].plot(kind='kde')\n",
        "print(data[data['Restaurant']=='AB\\'s - Absolute Barbecues']['Rating'].mean())\n",
        "print(data[data['Restaurant']=='AB\\'s - Absolute Barbecues']['Rating'].median())\n",
        "print(data[data['Restaurant']=='AB\\'s - Absolute Barbecues']['Rating'].mode())"
      ],
      "metadata": {
        "colab": {
          "base_uri": "https://localhost:8080/",
          "height": 499
        },
        "id": "Eqwh-jvpSISJ",
        "outputId": "da6bcabb-b4d8-4523-f2db-a0ffa4050d13"
      },
      "execution_count": 17,
      "outputs": [
        {
          "output_type": "stream",
          "name": "stdout",
          "text": [
            "4.88\n",
            "5.0\n",
            "0    5.0\n",
            "Name: Rating, dtype: float64\n"
          ]
        },
        {
          "output_type": "display_data",
          "data": {
            "text/plain": [
              "<Figure size 640x480 with 1 Axes>"
            ],
            "image/png": "[encoded data removed]"
          },
          "metadata": {}
        }
      ]
    },
    {
      "cell_type": "code",
      "source": [
        "data[data['Restaurant']=='Hotel Zara Hi-Fi']['Rating'].plot(kind='kde')\n",
        "print(data[data['Restaurant']=='Hotel Zara Hi-Fi']['Rating'].mean())\n",
        "print(data[data['Restaurant']=='Hotel Zara Hi-Fi']['Rating'].median())\n",
        "print(data[data['Restaurant']=='Hotel Zara Hi-Fi']['Rating'].mode())"
      ],
      "metadata": {
        "colab": {
          "base_uri": "https://localhost:8080/",
          "height": 499
        },
        "id": "lJEhbOXZSIVo",
        "outputId": "8f62a8ba-c677-46e9-8b30-e6347b6e368e"
      },
      "execution_count": 18,
      "outputs": [
        {
          "output_type": "stream",
          "name": "stdout",
          "text": [
            "2.4\n",
            "1.0\n",
            "0    1.0\n",
            "Name: Rating, dtype: float64\n"
          ]
        },
        {
          "output_type": "display_data",
          "data": {
            "text/plain": [
              "<Figure size 640x480 with 1 Axes>"
            ],
            "image/png": "[encoded data removed]"
          },
          "metadata": {}
        }
      ]
    },
    {
      "cell_type": "code",
      "execution_count": 19,
      "metadata": {
        "colab": {
          "base_uri": "https://localhost:8080/",
          "height": 860
        },
        "id": "Y3eI1kHn7lHi",
        "outputId": "7fd7b708-fad9-4450-981f-972aca2da7d2"
      },
      "outputs": [
        {
          "output_type": "display_data",
          "data": {
            "text/plain": [
              "<Figure size 640x480 with 1 Axes>"
            ],
            "image/png": "[encoded data removed]"
          },
          "metadata": {}
        },
        {
          "output_type": "execute_result",
          "data": {
            "text/plain": [
              "<matplotlib.collections.PathCollection at 0x7e4f4cb41fc0>"
            ]
          },
          "metadata": {},
          "execution_count": 19
        },
        {
          "output_type": "display_data",
          "data": {
            "text/plain": [
              "<Figure size 640x480 with 1 Axes>"
            ],
            "image/png": "[encoded data removed]"
          },
          "metadata": {}
        }
      ],
      "source": [
        "grp=rest_group.get_group('Hotel Zara Hi-Fi')\n",
        "plt.scatter(np.arange(len(grp['Rating'])),grp['Rating'])\n",
        "plt.show()\n",
        "\n",
        "grp=rest_group.get_group('AB\\'s - Absolute Barbecues')\n",
        "plt.scatter(np.arange(len(grp['Rating'])),grp['Rating'])"
      ]
    },
    {
      "cell_type": "code",
      "execution_count": 20,
      "metadata": {
        "colab": {
          "base_uri": "https://localhost:8080/",
          "height": 795
        },
        "id": "Oa4iBsmX7lHi",
        "outputId": "138c1ada-516e-4d02-9449-960b017783eb"
      },
      "outputs": [
        {
          "output_type": "display_data",
          "data": {
            "text/plain": [
              "<Figure size 640x480 with 1 Axes>"
            ],
            "image/png": "[encoded data removed]"
          },
          "metadata": {}
        },
        {
          "output_type": "display_data",
          "data": {
            "text/plain": [
              "<Figure size 640x480 with 1 Axes>"
            ],
            "image/png": "[encoded data removed]"
          },
          "metadata": {}
        }
      ],
      "source": [
        "temp=data[data['Restaurant']=='Hotel Zara Hi-Fi']\n",
        "Categories=['1-2','2-3','3-4','4-5']\n",
        "Categories_counts=[0,0,0,0]\n",
        "for i in range(len(temp)):\n",
        "    if temp.iloc[i].Rating>=1 and temp.iloc[i].Rating<2:\n",
        "        Categories_counts[0]+=1\n",
        "    elif temp.iloc[i].Rating>=2 and temp.iloc[i].Rating<3:\n",
        "        Categories_counts[1]+=1\n",
        "    elif temp.iloc[i].Rating>=3 and temp.iloc[i].Rating<4:\n",
        "        Categories_counts[2]+=1\n",
        "    else:\n",
        "        Categories_counts[3]+=1\n",
        "plt.pie(Categories_counts,labels=Categories,explode=[0,0,0,0.1],autopct=\"%1.2f%%\")\n",
        "plt.legend()\n",
        "plt.show()\n",
        "\n",
        "temp=data[data['Restaurant']=='AB\\'s - Absolute Barbecues']\n",
        "Categories=['1-2','2-3','3-4','4-5']\n",
        "Categories_counts=[0,0,0,0]\n",
        "for i in range(len(temp)):\n",
        "    if temp.iloc[i].Rating>=1 and temp.iloc[i].Rating<2:\n",
        "        Categories_counts[0]+=1\n",
        "    elif temp.iloc[i].Rating>=2 and temp.iloc[i].Rating<3:\n",
        "        Categories_counts[1]+=1\n",
        "    elif temp.iloc[i].Rating>=3 and temp.iloc[i].Rating<4:\n",
        "        Categories_counts[2]+=1\n",
        "    else:\n",
        "        Categories_counts[3]+=1\n",
        "plt.pie(Categories_counts,labels=Categories,explode=[0,0,0,0.1],autopct=\"%1.2f%%\")\n",
        "plt.legend()\n",
        "plt.show()"
      ]
    },
    {
      "cell_type": "markdown",
      "source": [
        "Regression Analysis"
      ],
      "metadata": {
        "id": "h8ourJ3GCvPt"
      }
    },
    {
      "cell_type": "code",
      "source": [
        "data.corr(numeric_only=True)"
      ],
      "metadata": {
        "colab": {
          "base_uri": "https://localhost:8080/",
          "height": 112
        },
        "id": "DwATl-rbljHC",
        "outputId": "b187ccc3-d368-41f1-f3a1-003e743c3294"
      },
      "execution_count": 21,
      "outputs": [
        {
          "output_type": "execute_result",
          "data": {
            "text/plain": [
              "            Rating  Pictures\n",
              "Rating    1.000000  0.082645\n",
              "Pictures  0.082645  1.000000"
            ],
            "text/html": [
              "\n",
              "  <div id=\"df-7c28910c-763b-4610-b5f7-4331f27ad0b9\" class=\"colab-df-container\">\n",
              "    <div>\n",
              "<style scoped>\n",
              "    .dataframe tbody tr th:only-of-type {\n",
              "        vertical-align: middle;\n",
              "    }\n",
              "\n",
              "    .dataframe tbody tr th {\n",
              "        vertical-align: top;\n",
              "    }\n",
              "\n",
              "    .dataframe thead th {\n",
              "        text-align: right;\n",
              "    }\n",
              "</style>\n",
              "<table border=\"1\" class=\"dataframe\">\n",
              "  <thead>\n",
              "    <tr style=\"text-align: right;\">\n",
              "      <th></th>\n",
              "      <th>Rating</th>\n",
              "      <th>Pictures</th>\n",
              "    </tr>\n",
              "  </thead>\n",
              "  <tbody>\n",
              "    <tr>\n",
              "      <th>Rating</th>\n",
              "      <td>1.000000</td>\n",
              "      <td>0.082645</td>\n",
              "    </tr>\n",
              "    <tr>\n",
              "      <th>Pictures</th>\n",
              "      <td>0.082645</td>\n",
              "      <td>1.000000</td>\n",
              "    </tr>\n",
              "  </tbody>\n",
              "</table>\n",
              "</div>\n",
              "    <div class=\"colab-df-buttons\">\n",
              "\n",
              "  <div class=\"colab-df-container\">\n",
              "    <button class=\"colab-df-convert\" onclick=\"convertToInteractive('df-7c28910c-763b-4610-b5f7-4331f27ad0b9')\"\n",
              "            title=\"Convert this dataframe to an interactive table.\"\n",
              "            style=\"display:none;\">\n",
              "\n",
              "  <svg xmlns=\"http://www.w3.org/2000/svg\" height=\"24px\" viewBox=\"0 -960 960 960\">\n",
              "    <path d=\"M120-120v-720h720v720H120Zm60-500h600v-160H180v160Zm220 220h160v-160H400v160Zm0 220h160v-160H400v160ZM180-400h160v-160H180v160Zm440 0h160v-160H620v160ZM180-180h160v-160H180v160Zm440 0h160v-160H620v160Z\"/>\n",
              "  </svg>\n",
              "    </button>\n",
              "\n",
              "  <style>\n",
              "    .colab-df-container {\n",
              "      display:flex;\n",
              "      gap: 12px;\n",
              "    }\n",
              "\n",
              "    .colab-df-convert {\n",
              "      background-color: #E8F0FE;\n",
              "      border: none;\n",
              "      border-radius: 50%;\n",
              "      cursor: pointer;\n",
              "      display: none;\n",
              "      fill: #1967D2;\n",
              "      height: 32px;\n",
              "      padding: 0 0 0 0;\n",
              "      width: 32px;\n",
              "    }\n",
              "\n",
              "    .colab-df-convert:hover {\n",
              "      background-color: #E2EBFA;\n",
              "      box-shadow: 0px 1px 2px rgba(60, 64, 67, 0.3), 0px 1px 3px 1px rgba(60, 64, 67, 0.15);\n",
              "      fill: #174EA6;\n",
              "    }\n",
              "\n",
              "    .colab-df-buttons div {\n",
              "      margin-bottom: 4px;\n",
              "    }\n",
              "\n",
              "    [theme=dark] .colab-df-convert {\n",
              "      background-color: #3B4455;\n",
              "      fill: #D2E3FC;\n",
              "    }\n",
              "\n",
              "    [theme=dark] .colab-df-convert:hover {\n",
              "      background-color: #434B5C;\n",
              "      box-shadow: 0px 1px 3px 1px rgba(0, 0, 0, 0.15);\n",
              "      filter: drop-shadow(0px 1px 2px rgba(0, 0, 0, 0.3));\n",
              "      fill: #FFFFFF;\n",
              "    }\n",
              "  </style>\n",
              "\n",
              "    <script>\n",
              "      const buttonEl =\n",
              "        document.querySelector('#df-7c28910c-763b-4610-b5f7-4331f27ad0b9 button.colab-df-convert');\n",
              "      buttonEl.style.display =\n",
              "        google.colab.kernel.accessAllowed ? 'block' : 'none';\n",
              "\n",
              "      async function convertToInteractive(key) {\n",
              "        const element = document.querySelector('#df-7c28910c-763b-4610-b5f7-4331f27ad0b9');\n",
              "        const dataTable =\n",
              "          await google.colab.kernel.invokeFunction('convertToInteractive',\n",
              "                                                    [key], {});\n",
              "        if (!dataTable) return;\n",
              "\n",
              "        const docLinkHtml = 'Like what you see? Visit the ' +\n",
              "          '<a target=\"_blank\" href=https://colab.research.google.com/notebooks/data_table.ipynb>data table notebook</a>'\n",
              "          + ' to learn more about interactive tables.';\n",
              "        element.innerHTML = '';\n",
              "        dataTable['output_type'] = 'display_data';\n",
              "        await google.colab.output.renderOutput(dataTable, element);\n",
              "        const docLink = document.createElement('div');\n",
              "        docLink.innerHTML = docLinkHtml;\n",
              "        element.appendChild(docLink);\n",
              "      }\n",
              "    </script>\n",
              "  </div>\n",
              "\n",
              "\n",
              "<div id=\"df-1baf83ee-b3d8-4571-aa44-fa32977c2b4c\">\n",
              "  <button class=\"colab-df-quickchart\" onclick=\"quickchart('df-1baf83ee-b3d8-4571-aa44-fa32977c2b4c')\"\n",
              "            title=\"Suggest charts\"\n",
              "            style=\"display:none;\">\n",
              "\n",
              "<svg xmlns=\"http://www.w3.org/2000/svg\" height=\"24px\"viewBox=\"0 0 24 24\"\n",
              "     width=\"24px\">\n",
              "    <g>\n",
              "        <path d=\"M19 3H5c-1.1 0-2 .9-2 2v14c0 1.1.9 2 2 2h14c1.1 0 2-.9 2-2V5c0-1.1-.9-2-2-2zM9 17H7v-7h2v7zm4 0h-2V7h2v10zm4 0h-2v-4h2v4z\"/>\n",
              "    </g>\n",
              "</svg>\n",
              "  </button>\n",
              "\n",
              "<style>\n",
              "  .colab-df-quickchart {\n",
              "      --bg-color: #E8F0FE;\n",
              "      --fill-color: #1967D2;\n",
              "      --hover-bg-color: #E2EBFA;\n",
              "      --hover-fill-color: #174EA6;\n",
              "      --disabled-fill-color: #AAA;\n",
              "      --disabled-bg-color: #DDD;\n",
              "  }\n",
              "\n",
              "  [theme=dark] .colab-df-quickchart {\n",
              "      --bg-color: #3B4455;\n",
              "      --fill-color: #D2E3FC;\n",
              "      --hover-bg-color: #434B5C;\n",
              "      --hover-fill-color: #FFFFFF;\n",
              "      --disabled-bg-color: #3B4455;\n",
              "      --disabled-fill-color: #666;\n",
              "  }\n",
              "\n",
              "  .colab-df-quickchart {\n",
              "    background-color: var(--bg-color);\n",
              "    border: none;\n",
              "    border-radius: 50%;\n",
              "    cursor: pointer;\n",
              "    display: none;\n",
              "    fill: var(--fill-color);\n",
              "    height: 32px;\n",
              "    padding: 0;\n",
              "    width: 32px;\n",
              "  }\n",
              "\n",
              "  .colab-df-quickchart:hover {\n",
              "    background-color: var(--hover-bg-color);\n",
              "    box-shadow: 0 1px 2px rgba(60, 64, 67, 0.3), 0 1px 3px 1px rgba(60, 64, 67, 0.15);\n",
              "    fill: var(--button-hover-fill-color);\n",
              "  }\n",
              "\n",
              "  .colab-df-quickchart-complete:disabled,\n",
              "  .colab-df-quickchart-complete:disabled:hover {\n",
              "    background-color: var(--disabled-bg-color);\n",
              "    fill: var(--disabled-fill-color);\n",
              "    box-shadow: none;\n",
              "  }\n",
              "\n",
              "  .colab-df-spinner {\n",
              "    border: 2px solid var(--fill-color);\n",
              "    border-color: transparent;\n",
              "    border-bottom-color: var(--fill-color);\n",
              "    animation:\n",
              "      spin 1s steps(1) infinite;\n",
              "  }\n",
              "\n",
              "  @keyframes spin {\n",
              "    0% {\n",
              "      border-color: transparent;\n",
              "      border-bottom-color: var(--fill-color);\n",
              "      border-left-color: var(--fill-color);\n",
              "    }\n",
              "    20% {\n",
              "      border-color: transparent;\n",
              "      border-left-color: var(--fill-color);\n",
              "      border-top-color: var(--fill-color);\n",
              "    }\n",
              "    30% {\n",
              "      border-color: transparent;\n",
              "      border-left-color: var(--fill-color);\n",
              "      border-top-color: var(--fill-color);\n",
              "      border-right-color: var(--fill-color);\n",
              "    }\n",
              "    40% {\n",
              "      border-color: transparent;\n",
              "      border-right-color: var(--fill-color);\n",
              "      border-top-color: var(--fill-color);\n",
              "    }\n",
              "    60% {\n",
              "      border-color: transparent;\n",
              "      border-right-color: var(--fill-color);\n",
              "    }\n",
              "    80% {\n",
              "      border-color: transparent;\n",
              "      border-right-color: var(--fill-color);\n",
              "      border-bottom-color: var(--fill-color);\n",
              "    }\n",
              "    90% {\n",
              "      border-color: transparent;\n",
              "      border-bottom-color: var(--fill-color);\n",
              "    }\n",
              "  }\n",
              "</style>\n",
              "\n",
              "  <script>\n",
              "    async function quickchart(key) {\n",
              "      const quickchartButtonEl =\n",
              "        document.querySelector('#' + key + ' button');\n",
              "      quickchartButtonEl.disabled = true;  // To prevent multiple clicks.\n",
              "      quickchartButtonEl.classList.add('colab-df-spinner');\n",
              "      try {\n",
              "        const charts = await google.colab.kernel.invokeFunction(\n",
              "            'suggestCharts', [key], {});\n",
              "      } catch (error) {\n",
              "        console.error('Error during call to suggestCharts:', error);\n",
              "      }\n",
              "      quickchartButtonEl.classList.remove('colab-df-spinner');\n",
              "      quickchartButtonEl.classList.add('colab-df-quickchart-complete');\n",
              "    }\n",
              "    (() => {\n",
              "      let quickchartButtonEl =\n",
              "        document.querySelector('#df-1baf83ee-b3d8-4571-aa44-fa32977c2b4c button');\n",
              "      quickchartButtonEl.style.display =\n",
              "        google.colab.kernel.accessAllowed ? 'block' : 'none';\n",
              "    })();\n",
              "  </script>\n",
              "</div>\n",
              "\n",
              "    </div>\n",
              "  </div>\n"
            ],
            "application/vnd.google.colaboratory.intrinsic+json": {
              "type": "dataframe",
              "summary": "{\n  \"name\": \"data\",\n  \"rows\": 2,\n  \"fields\": [\n    {\n      \"column\": \"Rating\",\n      \"properties\": {\n        \"dtype\": \"number\",\n        \"std\": 0.6486680275733234,\n        \"min\": 0.08264487792800121,\n        \"max\": 1.0,\n        \"num_unique_values\": 2,\n        \"samples\": [\n          0.08264487792800121,\n          1.0\n        ],\n        \"semantic_type\": \"\",\n        \"description\": \"\"\n      }\n    },\n    {\n      \"column\": \"Pictures\",\n      \"properties\": {\n        \"dtype\": \"number\",\n        \"std\": 0.6486680275733234,\n        \"min\": 0.08264487792800121,\n        \"max\": 1.0,\n        \"num_unique_values\": 2,\n        \"samples\": [\n          1.0,\n          0.08264487792800121\n        ],\n        \"semantic_type\": \"\",\n        \"description\": \"\"\n      }\n    }\n  ]\n}"
            }
          },
          "metadata": {},
          "execution_count": 21
        }
      ]
    },
    {
      "cell_type": "markdown",
      "source": [
        "Sentiment analysis"
      ],
      "metadata": {
        "id": "Qe3D116d-zQu"
      }
    },
    {
      "cell_type": "code",
      "source": [
        "reference_data=pd.read_csv('Restaurant_Reviews.tsv',delimiter='\\t',quoting=3)\n",
        "reference_data.head()"
      ],
      "metadata": {
        "colab": {
          "base_uri": "https://localhost:8080/",
          "height": 206
        },
        "id": "0AN4bpKy-yK6",
        "outputId": "0d1e0dfc-cfd8-44aa-f952-b69a03819f99"
      },
      "execution_count": 22,
      "outputs": [
        {
          "output_type": "execute_result",
          "data": {
            "text/plain": [
              "                                              Review  Liked\n",
              "0                           Wow... Loved this place.      1\n",
              "1                                 Crust is not good.      0\n",
              "2          Not tasty and the texture was just nasty.      0\n",
              "3  Stopped by during the late May bank holiday of...      1\n",
              "4  The selection on the menu was great and so wer...      1"
            ],
            "text/html": [
              "\n",
              "  <div id=\"df-3a4ce398-17c6-4de3-b9e6-d18892ff60e2\" class=\"colab-df-container\">\n",
              "    <div>\n",
              "<style scoped>\n",
              "    .dataframe tbody tr th:only-of-type {\n",
              "        vertical-align: middle;\n",
              "    }\n",
              "\n",
              "    .dataframe tbody tr th {\n",
              "        vertical-align: top;\n",
              "    }\n",
              "\n",
              "    .dataframe thead th {\n",
              "        text-align: right;\n",
              "    }\n",
              "</style>\n",
              "<table border=\"1\" class=\"dataframe\">\n",
              "  <thead>\n",
              "    <tr style=\"text-align: right;\">\n",
              "      <th></th>\n",
              "      <th>Review</th>\n",
              "      <th>Liked</th>\n",
              "    </tr>\n",
              "  </thead>\n",
              "  <tbody>\n",
              "    <tr>\n",
              "      <th>0</th>\n",
              "      <td>Wow... Loved this place.</td>\n",
              "      <td>1</td>\n",
              "    </tr>\n",
              "    <tr>\n",
              "      <th>1</th>\n",
              "      <td>Crust is not good.</td>\n",
              "      <td>0</td>\n",
              "    </tr>\n",
              "    <tr>\n",
              "      <th>2</th>\n",
              "      <td>Not tasty and the texture was just nasty.</td>\n",
              "      <td>0</td>\n",
              "    </tr>\n",
              "    <tr>\n",
              "      <th>3</th>\n",
              "      <td>Stopped by during the late May bank holiday of...</td>\n",
              "      <td>1</td>\n",
              "    </tr>\n",
              "    <tr>\n",
              "      <th>4</th>\n",
              "      <td>The selection on the menu was great and so wer...</td>\n",
              "      <td>1</td>\n",
              "    </tr>\n",
              "  </tbody>\n",
              "</table>\n",
              "</div>\n",
              "    <div class=\"colab-df-buttons\">\n",
              "\n",
              "  <div class=\"colab-df-container\">\n",
              "    <button class=\"colab-df-convert\" onclick=\"convertToInteractive('df-3a4ce398-17c6-4de3-b9e6-d18892ff60e2')\"\n",
              "            title=\"Convert this dataframe to an interactive table.\"\n",
              "            style=\"display:none;\">\n",
              "\n",
              "  <svg xmlns=\"http://www.w3.org/2000/svg\" height=\"24px\" viewBox=\"0 -960 960 960\">\n",
              "    <path d=\"M120-120v-720h720v720H120Zm60-500h600v-160H180v160Zm220 220h160v-160H400v160Zm0 220h160v-160H400v160ZM180-400h160v-160H180v160Zm440 0h160v-160H620v160ZM180-180h160v-160H180v160Zm440 0h160v-160H620v160Z\"/>\n",
              "  </svg>\n",
              "    </button>\n",
              "\n",
              "  <style>\n",
              "    .colab-df-container {\n",
              "      display:flex;\n",
              "      gap: 12px;\n",
              "    }\n",
              "\n",
              "    .colab-df-convert {\n",
              "      background-color: #E8F0FE;\n",
              "      border: none;\n",
              "      border-radius: 50%;\n",
              "      cursor: pointer;\n",
              "      display: none;\n",
              "      fill: #1967D2;\n",
              "      height: 32px;\n",
              "      padding: 0 0 0 0;\n",
              "      width: 32px;\n",
              "    }\n",
              "\n",
              "    .colab-df-convert:hover {\n",
              "      background-color: #E2EBFA;\n",
              "      box-shadow: 0px 1px 2px rgba(60, 64, 67, 0.3), 0px 1px 3px 1px rgba(60, 64, 67, 0.15);\n",
              "      fill: #174EA6;\n",
              "    }\n",
              "\n",
              "    .colab-df-buttons div {\n",
              "      margin-bottom: 4px;\n",
              "    }\n",
              "\n",
              "    [theme=dark] .colab-df-convert {\n",
              "      background-color: #3B4455;\n",
              "      fill: #D2E3FC;\n",
              "    }\n",
              "\n",
              "    [theme=dark] .colab-df-convert:hover {\n",
              "      background-color: #434B5C;\n",
              "      box-shadow: 0px 1px 3px 1px rgba(0, 0, 0, 0.15);\n",
              "      filter: drop-shadow(0px 1px 2px rgba(0, 0, 0, 0.3));\n",
              "      fill: #FFFFFF;\n",
              "    }\n",
              "  </style>\n",
              "\n",
              "    <script>\n",
              "      const buttonEl =\n",
              "        document.querySelector('#df-3a4ce398-17c6-4de3-b9e6-d18892ff60e2 button.colab-df-convert');\n",
              "      buttonEl.style.display =\n",
              "        google.colab.kernel.accessAllowed ? 'block' : 'none';\n",
              "\n",
              "      async function convertToInteractive(key) {\n",
              "        const element = document.querySelector('#df-3a4ce398-17c6-4de3-b9e6-d18892ff60e2');\n",
              "        const dataTable =\n",
              "          await google.colab.kernel.invokeFunction('convertToInteractive',\n",
              "                                                    [key], {});\n",
              "        if (!dataTable) return;\n",
              "\n",
              "        const docLinkHtml = 'Like what you see? Visit the ' +\n",
              "          '<a target=\"_blank\" href=https://colab.research.google.com/notebooks/data_table.ipynb>data table notebook</a>'\n",
              "          + ' to learn more about interactive tables.';\n",
              "        element.innerHTML = '';\n",
              "        dataTable['output_type'] = 'display_data';\n",
              "        await google.colab.output.renderOutput(dataTable, element);\n",
              "        const docLink = document.createElement('div');\n",
              "        docLink.innerHTML = docLinkHtml;\n",
              "        element.appendChild(docLink);\n",
              "      }\n",
              "    </script>\n",
              "  </div>\n",
              "\n",
              "\n",
              "<div id=\"df-019bc60b-5b68-40ff-94be-b403c3bf6287\">\n",
              "  <button class=\"colab-df-quickchart\" onclick=\"quickchart('df-019bc60b-5b68-40ff-94be-b403c3bf6287')\"\n",
              "            title=\"Suggest charts\"\n",
              "            style=\"display:none;\">\n",
              "\n",
              "<svg xmlns=\"http://www.w3.org/2000/svg\" height=\"24px\"viewBox=\"0 0 24 24\"\n",
              "     width=\"24px\">\n",
              "    <g>\n",
              "        <path d=\"M19 3H5c-1.1 0-2 .9-2 2v14c0 1.1.9 2 2 2h14c1.1 0 2-.9 2-2V5c0-1.1-.9-2-2-2zM9 17H7v-7h2v7zm4 0h-2V7h2v10zm4 0h-2v-4h2v4z\"/>\n",
              "    </g>\n",
              "</svg>\n",
              "  </button>\n",
              "\n",
              "<style>\n",
              "  .colab-df-quickchart {\n",
              "      --bg-color: #E8F0FE;\n",
              "      --fill-color: #1967D2;\n",
              "      --hover-bg-color: #E2EBFA;\n",
              "      --hover-fill-color: #174EA6;\n",
              "      --disabled-fill-color: #AAA;\n",
              "      --disabled-bg-color: #DDD;\n",
              "  }\n",
              "\n",
              "  [theme=dark] .colab-df-quickchart {\n",
              "      --bg-color: #3B4455;\n",
              "      --fill-color: #D2E3FC;\n",
              "      --hover-bg-color: #434B5C;\n",
              "      --hover-fill-color: #FFFFFF;\n",
              "      --disabled-bg-color: #3B4455;\n",
              "      --disabled-fill-color: #666;\n",
              "  }\n",
              "\n",
              "  .colab-df-quickchart {\n",
              "    background-color: var(--bg-color);\n",
              "    border: none;\n",
              "    border-radius: 50%;\n",
              "    cursor: pointer;\n",
              "    display: none;\n",
              "    fill: var(--fill-color);\n",
              "    height: 32px;\n",
              "    padding: 0;\n",
              "    width: 32px;\n",
              "  }\n",
              "\n",
              "  .colab-df-quickchart:hover {\n",
              "    background-color: var(--hover-bg-color);\n",
              "    box-shadow: 0 1px 2px rgba(60, 64, 67, 0.3), 0 1px 3px 1px rgba(60, 64, 67, 0.15);\n",
              "    fill: var(--button-hover-fill-color);\n",
              "  }\n",
              "\n",
              "  .colab-df-quickchart-complete:disabled,\n",
              "  .colab-df-quickchart-complete:disabled:hover {\n",
              "    background-color: var(--disabled-bg-color);\n",
              "    fill: var(--disabled-fill-color);\n",
              "    box-shadow: none;\n",
              "  }\n",
              "\n",
              "  .colab-df-spinner {\n",
              "    border: 2px solid var(--fill-color);\n",
              "    border-color: transparent;\n",
              "    border-bottom-color: var(--fill-color);\n",
              "    animation:\n",
              "      spin 1s steps(1) infinite;\n",
              "  }\n",
              "\n",
              "  @keyframes spin {\n",
              "    0% {\n",
              "      border-color: transparent;\n",
              "      border-bottom-color: var(--fill-color);\n",
              "      border-left-color: var(--fill-color);\n",
              "    }\n",
              "    20% {\n",
              "      border-color: transparent;\n",
              "      border-left-color: var(--fill-color);\n",
              "      border-top-color: var(--fill-color);\n",
              "    }\n",
              "    30% {\n",
              "      border-color: transparent;\n",
              "      border-left-color: var(--fill-color);\n",
              "      border-top-color: var(--fill-color);\n",
              "      border-right-color: var(--fill-color);\n",
              "    }\n",
              "    40% {\n",
              "      border-color: transparent;\n",
              "      border-right-color: var(--fill-color);\n",
              "      border-top-color: var(--fill-color);\n",
              "    }\n",
              "    60% {\n",
              "      border-color: transparent;\n",
              "      border-right-color: var(--fill-color);\n",
              "    }\n",
              "    80% {\n",
              "      border-color: transparent;\n",
              "      border-right-color: var(--fill-color);\n",
              "      border-bottom-color: var(--fill-color);\n",
              "    }\n",
              "    90% {\n",
              "      border-color: transparent;\n",
              "      border-bottom-color: var(--fill-color);\n",
              "    }\n",
              "  }\n",
              "</style>\n",
              "\n",
              "  <script>\n",
              "    async function quickchart(key) {\n",
              "      const quickchartButtonEl =\n",
              "        document.querySelector('#' + key + ' button');\n",
              "      quickchartButtonEl.disabled = true;  // To prevent multiple clicks.\n",
              "      quickchartButtonEl.classList.add('colab-df-spinner');\n",
              "      try {\n",
              "        const charts = await google.colab.kernel.invokeFunction(\n",
              "            'suggestCharts', [key], {});\n",
              "      } catch (error) {\n",
              "        console.error('Error during call to suggestCharts:', error);\n",
              "      }\n",
              "      quickchartButtonEl.classList.remove('colab-df-spinner');\n",
              "      quickchartButtonEl.classList.add('colab-df-quickchart-complete');\n",
              "    }\n",
              "    (() => {\n",
              "      let quickchartButtonEl =\n",
              "        document.querySelector('#df-019bc60b-5b68-40ff-94be-b403c3bf6287 button');\n",
              "      quickchartButtonEl.style.display =\n",
              "        google.colab.kernel.accessAllowed ? 'block' : 'none';\n",
              "    })();\n",
              "  </script>\n",
              "</div>\n",
              "\n",
              "    </div>\n",
              "  </div>\n"
            ],
            "application/vnd.google.colaboratory.intrinsic+json": {
              "type": "dataframe",
              "variable_name": "reference_data",
              "summary": "{\n  \"name\": \"reference_data\",\n  \"rows\": 1000,\n  \"fields\": [\n    {\n      \"column\": \"Review\",\n      \"properties\": {\n        \"dtype\": \"string\",\n        \"num_unique_values\": 996,\n        \"samples\": [\n          \"They were excellent.\",\n          \"Your servers suck, wait, correction, our server Heimer sucked.\",\n          \"Will be back again!\"\n        ],\n        \"semantic_type\": \"\",\n        \"description\": \"\"\n      }\n    },\n    {\n      \"column\": \"Liked\",\n      \"properties\": {\n        \"dtype\": \"number\",\n        \"std\": 0,\n        \"min\": 0,\n        \"max\": 1,\n        \"num_unique_values\": 2,\n        \"samples\": [\n          0,\n          1\n        ],\n        \"semantic_type\": \"\",\n        \"description\": \"\"\n      }\n    }\n  ]\n}"
            }
          },
          "metadata": {},
          "execution_count": 22
        }
      ]
    },
    {
      "cell_type": "code",
      "source": [
        "reference_data['Liked'].value_counts()"
      ],
      "metadata": {
        "colab": {
          "base_uri": "https://localhost:8080/"
        },
        "id": "wJNvpa_sGSfS",
        "outputId": "64395b07-3113-4be4-a39a-6ae143bf2ef2"
      },
      "execution_count": 23,
      "outputs": [
        {
          "output_type": "execute_result",
          "data": {
            "text/plain": [
              "Liked\n",
              "1    500\n",
              "0    500\n",
              "Name: count, dtype: int64"
            ]
          },
          "metadata": {},
          "execution_count": 23
        }
      ]
    },
    {
      "cell_type": "code",
      "source": [
        "review_modified=[]\n",
        "stop_words=list(stopwords.words('english'))\n",
        "stop_words.remove('not')\n",
        "for i in range(len(reference_data['Review'])):\n",
        "   review = re.sub('[^a-zA-Z]',' ',reference_data['Review'][i])\n",
        "   review=review.lower()\n",
        "   review=review.split()\n",
        "   ps=PorterStemmer()\n",
        "   review=[ps.stem(word) for word in review if word not in stop_words]\n",
        "   review=' '.join(review)\n",
        "   review_modified.append(review)\n",
        "reference_data['Review']=review_modified\n",
        "\n",
        "print(reference_data.head())"
      ],
      "metadata": {
        "colab": {
          "base_uri": "https://localhost:8080/"
        },
        "id": "sO3Y_YVj_wiV",
        "outputId": "a3940b9f-5957-4f7d-eda8-27b55f815616"
      },
      "execution_count": 24,
      "outputs": [
        {
          "output_type": "stream",
          "name": "stdout",
          "text": [
            "                                              Review  Liked\n",
            "0                                     wow love place      1\n",
            "1                                     crust not good      0\n",
            "2                             not tasti textur nasti      0\n",
            "3  stop late may bank holiday rick steve recommen...      1\n",
            "4                            select menu great price      1\n"
          ]
        }
      ]
    },
    {
      "cell_type": "code",
      "source": [
        "cv=CountVectorizer(max_features=1500)\n",
        "X=cv.fit_transform(reference_data['Review']).toarray()\n",
        "y=reference_data['Liked'].values"
      ],
      "metadata": {
        "id": "2pNqb9KfBauK"
      },
      "execution_count": 25,
      "outputs": []
    },
    {
      "cell_type": "code",
      "source": [
        "#Training the above dataset with KNN model and using it to predict the sentiment of reviews for original dataset\n",
        "X_train,X_test,y_train,y_test=train_test_split(X,y,test_size=0.1)\n",
        "classifier=KNeighborsClassifier(n_neighbors=10,p=2)\n",
        "classifier=LogisticRegression()\n",
        "classifier.fit(X_train,y_train)\n",
        "y_pred=np.array(classifier.predict(X_test))\n"
      ],
      "metadata": {
        "id": "HepBm8oZAUZq"
      },
      "execution_count": 26,
      "outputs": []
    },
    {
      "cell_type": "code",
      "source": [
        "print(np.concatenate((y_pred.reshape(len(y_pred),1),y_test.reshape(len(y_test),1)),axis=1))\n",
        "\n",
        "cm=confusion_matrix(y_test,y_pred)\n",
        "print(cm)\n",
        "print(accuracy_score(y_test, y_pred))"
      ],
      "metadata": {
        "colab": {
          "base_uri": "https://localhost:8080/"
        },
        "id": "sVNnLCxkCKg0",
        "outputId": "0b25e33b-cfc8-4a3e-8a86-e7c2f137b817"
      },
      "execution_count": 27,
      "outputs": [
        {
          "output_type": "stream",
          "name": "stdout",
          "text": [
            "[[0 0]\n",
            " [1 0]\n",
            " [0 0]\n",
            " [1 1]\n",
            " [1 1]\n",
            " [0 0]\n",
            " [1 1]\n",
            " [0 0]\n",
            " [1 1]\n",
            " [0 0]\n",
            " [0 0]\n",
            " [0 0]\n",
            " [0 1]\n",
            " [1 1]\n",
            " [0 1]\n",
            " [0 0]\n",
            " [1 0]\n",
            " [0 0]\n",
            " [0 0]\n",
            " [0 0]\n",
            " [0 1]\n",
            " [0 0]\n",
            " [0 0]\n",
            " [0 1]\n",
            " [0 0]\n",
            " [1 0]\n",
            " [0 0]\n",
            " [1 1]\n",
            " [0 0]\n",
            " [1 1]\n",
            " [0 0]\n",
            " [0 0]\n",
            " [0 0]\n",
            " [0 1]\n",
            " [1 0]\n",
            " [0 0]\n",
            " [1 0]\n",
            " [0 0]\n",
            " [1 1]\n",
            " [1 0]\n",
            " [0 0]\n",
            " [1 1]\n",
            " [0 0]\n",
            " [1 1]\n",
            " [0 0]\n",
            " [0 1]\n",
            " [1 1]\n",
            " [0 0]\n",
            " [1 1]\n",
            " [0 0]\n",
            " [0 0]\n",
            " [0 0]\n",
            " [0 1]\n",
            " [0 0]\n",
            " [0 0]\n",
            " [1 0]\n",
            " [1 0]\n",
            " [1 1]\n",
            " [0 0]\n",
            " [0 0]\n",
            " [1 1]\n",
            " [1 0]\n",
            " [1 0]\n",
            " [0 0]\n",
            " [1 1]\n",
            " [1 1]\n",
            " [1 1]\n",
            " [1 1]\n",
            " [1 0]\n",
            " [0 0]\n",
            " [0 0]\n",
            " [0 0]\n",
            " [1 1]\n",
            " [1 0]\n",
            " [1 1]\n",
            " [1 1]\n",
            " [0 0]\n",
            " [0 0]\n",
            " [0 0]\n",
            " [1 1]\n",
            " [1 1]\n",
            " [1 1]\n",
            " [0 0]\n",
            " [1 1]\n",
            " [1 0]\n",
            " [0 0]\n",
            " [1 1]\n",
            " [0 1]\n",
            " [0 0]\n",
            " [1 0]\n",
            " [0 1]\n",
            " [0 0]\n",
            " [1 1]\n",
            " [1 1]\n",
            " [0 0]\n",
            " [1 1]\n",
            " [1 0]\n",
            " [0 0]\n",
            " [1 0]\n",
            " [0 0]]\n",
            "[[46 16]\n",
            " [ 9 29]]\n",
            "0.75\n"
          ]
        }
      ]
    },
    {
      "cell_type": "code",
      "source": [
        "X=cv.transform(data['Review']).toarray()\n",
        "y=classifier.predict(X)\n",
        "data['Sentiment']=y"
      ],
      "metadata": {
        "id": "ovgUBDqBDet5"
      },
      "execution_count": 28,
      "outputs": []
    },
    {
      "cell_type": "code",
      "source": [
        "data.tail()"
      ],
      "metadata": {
        "colab": {
          "base_uri": "https://localhost:8080/",
          "height": 206
        },
        "id": "HUdsbesfEXjh",
        "outputId": "13fd226c-f89a-454d-e732-58a4ed359035"
      },
      "execution_count": 29,
      "outputs": [
        {
          "output_type": "execute_result",
          "data": {
            "text/plain": [
              "            Restaurant          Reviewer  \\\n",
              "9957  Chinese Pavilion  Abhishek Mahajan   \n",
              "9958  Chinese Pavilion    Sharad Agrawal   \n",
              "9959  Chinese Pavilion         Ramandeep   \n",
              "9960  Chinese Pavilion   Nayana Shanbhag   \n",
              "9961  Chinese Pavilion  Bhargava Krishna   \n",
              "\n",
              "                                                 Review  Rating  \\\n",
              "9957  madhumathi mahajan well start nice courteou se...     3.0   \n",
              "9958  place never disappoint us food courteou staff ...     4.5   \n",
              "9959  bad rate mainli chicken bone found veg food no...     1.5   \n",
              "9960  person love prefer chines food coupl time husb...     4.0   \n",
              "9961  check tri delici chines food seen non veg lunc...     3.5   \n",
              "\n",
              "                    Time  Pictures  Sentiment  \n",
              "9957 2016-06-05 00:08:00         0          1  \n",
              "9958 2016-06-04 22:01:00         0          1  \n",
              "9959 2016-06-03 10:37:00         3          0  \n",
              "9960 2016-05-31 17:22:00         0          1  \n",
              "9961 2016-05-31 16:41:00         6          1  "
            ],
            "text/html": [
              "\n",
              "  <div id=\"df-e1e13a2a-19a1-4b9d-9162-266f82b716f1\" class=\"colab-df-container\">\n",
              "    <div>\n",
              "<style scoped>\n",
              "    .dataframe tbody tr th:only-of-type {\n",
              "        vertical-align: middle;\n",
              "    }\n",
              "\n",
              "    .dataframe tbody tr th {\n",
              "        vertical-align: top;\n",
              "    }\n",
              "\n",
              "    .dataframe thead th {\n",
              "        text-align: right;\n",
              "    }\n",
              "</style>\n",
              "<table border=\"1\" class=\"dataframe\">\n",
              "  <thead>\n",
              "    <tr style=\"text-align: right;\">\n",
              "      <th></th>\n",
              "      <th>Restaurant</th>\n",
              "      <th>Reviewer</th>\n",
              "      <th>Review</th>\n",
              "      <th>Rating</th>\n",
              "      <th>Time</th>\n",
              "      <th>Pictures</th>\n",
              "      <th>Sentiment</th>\n",
              "    </tr>\n",
              "  </thead>\n",
              "  <tbody>\n",
              "    <tr>\n",
              "      <th>9957</th>\n",
              "      <td>Chinese Pavilion</td>\n",
              "      <td>Abhishek Mahajan</td>\n",
              "      <td>madhumathi mahajan well start nice courteou se...</td>\n",
              "      <td>3.0</td>\n",
              "      <td>2016-06-05 00:08:00</td>\n",
              "      <td>0</td>\n",
              "      <td>1</td>\n",
              "    </tr>\n",
              "    <tr>\n",
              "      <th>9958</th>\n",
              "      <td>Chinese Pavilion</td>\n",
              "      <td>Sharad Agrawal</td>\n",
              "      <td>place never disappoint us food courteou staff ...</td>\n",
              "      <td>4.5</td>\n",
              "      <td>2016-06-04 22:01:00</td>\n",
              "      <td>0</td>\n",
              "      <td>1</td>\n",
              "    </tr>\n",
              "    <tr>\n",
              "      <th>9959</th>\n",
              "      <td>Chinese Pavilion</td>\n",
              "      <td>Ramandeep</td>\n",
              "      <td>bad rate mainli chicken bone found veg food no...</td>\n",
              "      <td>1.5</td>\n",
              "      <td>2016-06-03 10:37:00</td>\n",
              "      <td>3</td>\n",
              "      <td>0</td>\n",
              "    </tr>\n",
              "    <tr>\n",
              "      <th>9960</th>\n",
              "      <td>Chinese Pavilion</td>\n",
              "      <td>Nayana Shanbhag</td>\n",
              "      <td>person love prefer chines food coupl time husb...</td>\n",
              "      <td>4.0</td>\n",
              "      <td>2016-05-31 17:22:00</td>\n",
              "      <td>0</td>\n",
              "      <td>1</td>\n",
              "    </tr>\n",
              "    <tr>\n",
              "      <th>9961</th>\n",
              "      <td>Chinese Pavilion</td>\n",
              "      <td>Bhargava Krishna</td>\n",
              "      <td>check tri delici chines food seen non veg lunc...</td>\n",
              "      <td>3.5</td>\n",
              "      <td>2016-05-31 16:41:00</td>\n",
              "      <td>6</td>\n",
              "      <td>1</td>\n",
              "    </tr>\n",
              "  </tbody>\n",
              "</table>\n",
              "</div>\n",
              "    <div class=\"colab-df-buttons\">\n",
              "\n",
              "  <div class=\"colab-df-container\">\n",
              "    <button class=\"colab-df-convert\" onclick=\"convertToInteractive('df-e1e13a2a-19a1-4b9d-9162-266f82b716f1')\"\n",
              "            title=\"Convert this dataframe to an interactive table.\"\n",
              "            style=\"display:none;\">\n",
              "\n",
              "  <svg xmlns=\"http://www.w3.org/2000/svg\" height=\"24px\" viewBox=\"0 -960 960 960\">\n",
              "    <path d=\"M120-120v-720h720v720H120Zm60-500h600v-160H180v160Zm220 220h160v-160H400v160Zm0 220h160v-160H400v160ZM180-400h160v-160H180v160Zm440 0h160v-160H620v160ZM180-180h160v-160H180v160Zm440 0h160v-160H620v160Z\"/>\n",
              "  </svg>\n",
              "    </button>\n",
              "\n",
              "  <style>\n",
              "    .colab-df-container {\n",
              "      display:flex;\n",
              "      gap: 12px;\n",
              "    }\n",
              "\n",
              "    .colab-df-convert {\n",
              "      background-color: #E8F0FE;\n",
              "      border: none;\n",
              "      border-radius: 50%;\n",
              "      cursor: pointer;\n",
              "      display: none;\n",
              "      fill: #1967D2;\n",
              "      height: 32px;\n",
              "      padding: 0 0 0 0;\n",
              "      width: 32px;\n",
              "    }\n",
              "\n",
              "    .colab-df-convert:hover {\n",
              "      background-color: #E2EBFA;\n",
              "      box-shadow: 0px 1px 2px rgba(60, 64, 67, 0.3), 0px 1px 3px 1px rgba(60, 64, 67, 0.15);\n",
              "      fill: #174EA6;\n",
              "    }\n",
              "\n",
              "    .colab-df-buttons div {\n",
              "      margin-bottom: 4px;\n",
              "    }\n",
              "\n",
              "    [theme=dark] .colab-df-convert {\n",
              "      background-color: #3B4455;\n",
              "      fill: #D2E3FC;\n",
              "    }\n",
              "\n",
              "    [theme=dark] .colab-df-convert:hover {\n",
              "      background-color: #434B5C;\n",
              "      box-shadow: 0px 1px 3px 1px rgba(0, 0, 0, 0.15);\n",
              "      filter: drop-shadow(0px 1px 2px rgba(0, 0, 0, 0.3));\n",
              "      fill: #FFFFFF;\n",
              "    }\n",
              "  </style>\n",
              "\n",
              "    <script>\n",
              "      const buttonEl =\n",
              "        document.querySelector('#df-e1e13a2a-19a1-4b9d-9162-266f82b716f1 button.colab-df-convert');\n",
              "      buttonEl.style.display =\n",
              "        google.colab.kernel.accessAllowed ? 'block' : 'none';\n",
              "\n",
              "      async function convertToInteractive(key) {\n",
              "        const element = document.querySelector('#df-e1e13a2a-19a1-4b9d-9162-266f82b716f1');\n",
              "        const dataTable =\n",
              "          await google.colab.kernel.invokeFunction('convertToInteractive',\n",
              "                                                    [key], {});\n",
              "        if (!dataTable) return;\n",
              "\n",
              "        const docLinkHtml = 'Like what you see? Visit the ' +\n",
              "          '<a target=\"_blank\" href=https://colab.research.google.com/notebooks/data_table.ipynb>data table notebook</a>'\n",
              "          + ' to learn more about interactive tables.';\n",
              "        element.innerHTML = '';\n",
              "        dataTable['output_type'] = 'display_data';\n",
              "        await google.colab.output.renderOutput(dataTable, element);\n",
              "        const docLink = document.createElement('div');\n",
              "        docLink.innerHTML = docLinkHtml;\n",
              "        element.appendChild(docLink);\n",
              "      }\n",
              "    </script>\n",
              "  </div>\n",
              "\n",
              "\n",
              "<div id=\"df-f13c7ed4-d1b5-4122-896d-d24f0da5531e\">\n",
              "  <button class=\"colab-df-quickchart\" onclick=\"quickchart('df-f13c7ed4-d1b5-4122-896d-d24f0da5531e')\"\n",
              "            title=\"Suggest charts\"\n",
              "            style=\"display:none;\">\n",
              "\n",
              "<svg xmlns=\"http://www.w3.org/2000/svg\" height=\"24px\"viewBox=\"0 0 24 24\"\n",
              "     width=\"24px\">\n",
              "    <g>\n",
              "        <path d=\"M19 3H5c-1.1 0-2 .9-2 2v14c0 1.1.9 2 2 2h14c1.1 0 2-.9 2-2V5c0-1.1-.9-2-2-2zM9 17H7v-7h2v7zm4 0h-2V7h2v10zm4 0h-2v-4h2v4z\"/>\n",
              "    </g>\n",
              "</svg>\n",
              "  </button>\n",
              "\n",
              "<style>\n",
              "  .colab-df-quickchart {\n",
              "      --bg-color: #E8F0FE;\n",
              "      --fill-color: #1967D2;\n",
              "      --hover-bg-color: #E2EBFA;\n",
              "      --hover-fill-color: #174EA6;\n",
              "      --disabled-fill-color: #AAA;\n",
              "      --disabled-bg-color: #DDD;\n",
              "  }\n",
              "\n",
              "  [theme=dark] .colab-df-quickchart {\n",
              "      --bg-color: #3B4455;\n",
              "      --fill-color: #D2E3FC;\n",
              "      --hover-bg-color: #434B5C;\n",
              "      --hover-fill-color: #FFFFFF;\n",
              "      --disabled-bg-color: #3B4455;\n",
              "      --disabled-fill-color: #666;\n",
              "  }\n",
              "\n",
              "  .colab-df-quickchart {\n",
              "    background-color: var(--bg-color);\n",
              "    border: none;\n",
              "    border-radius: 50%;\n",
              "    cursor: pointer;\n",
              "    display: none;\n",
              "    fill: var(--fill-color);\n",
              "    height: 32px;\n",
              "    padding: 0;\n",
              "    width: 32px;\n",
              "  }\n",
              "\n",
              "  .colab-df-quickchart:hover {\n",
              "    background-color: var(--hover-bg-color);\n",
              "    box-shadow: 0 1px 2px rgba(60, 64, 67, 0.3), 0 1px 3px 1px rgba(60, 64, 67, 0.15);\n",
              "    fill: var(--button-hover-fill-color);\n",
              "  }\n",
              "\n",
              "  .colab-df-quickchart-complete:disabled,\n",
              "  .colab-df-quickchart-complete:disabled:hover {\n",
              "    background-color: var(--disabled-bg-color);\n",
              "    fill: var(--disabled-fill-color);\n",
              "    box-shadow: none;\n",
              "  }\n",
              "\n",
              "  .colab-df-spinner {\n",
              "    border: 2px solid var(--fill-color);\n",
              "    border-color: transparent;\n",
              "    border-bottom-color: var(--fill-color);\n",
              "    animation:\n",
              "      spin 1s steps(1) infinite;\n",
              "  }\n",
              "\n",
              "  @keyframes spin {\n",
              "    0% {\n",
              "      border-color: transparent;\n",
              "      border-bottom-color: var(--fill-color);\n",
              "      border-left-color: var(--fill-color);\n",
              "    }\n",
              "    20% {\n",
              "      border-color: transparent;\n",
              "      border-left-color: var(--fill-color);\n",
              "      border-top-color: var(--fill-color);\n",
              "    }\n",
              "    30% {\n",
              "      border-color: transparent;\n",
              "      border-left-color: var(--fill-color);\n",
              "      border-top-color: var(--fill-color);\n",
              "      border-right-color: var(--fill-color);\n",
              "    }\n",
              "    40% {\n",
              "      border-color: transparent;\n",
              "      border-right-color: var(--fill-color);\n",
              "      border-top-color: var(--fill-color);\n",
              "    }\n",
              "    60% {\n",
              "      border-color: transparent;\n",
              "      border-right-color: var(--fill-color);\n",
              "    }\n",
              "    80% {\n",
              "      border-color: transparent;\n",
              "      border-right-color: var(--fill-color);\n",
              "      border-bottom-color: var(--fill-color);\n",
              "    }\n",
              "    90% {\n",
              "      border-color: transparent;\n",
              "      border-bottom-color: var(--fill-color);\n",
              "    }\n",
              "  }\n",
              "</style>\n",
              "\n",
              "  <script>\n",
              "    async function quickchart(key) {\n",
              "      const quickchartButtonEl =\n",
              "        document.querySelector('#' + key + ' button');\n",
              "      quickchartButtonEl.disabled = true;  // To prevent multiple clicks.\n",
              "      quickchartButtonEl.classList.add('colab-df-spinner');\n",
              "      try {\n",
              "        const charts = await google.colab.kernel.invokeFunction(\n",
              "            'suggestCharts', [key], {});\n",
              "      } catch (error) {\n",
              "        console.error('Error during call to suggestCharts:', error);\n",
              "      }\n",
              "      quickchartButtonEl.classList.remove('colab-df-spinner');\n",
              "      quickchartButtonEl.classList.add('colab-df-quickchart-complete');\n",
              "    }\n",
              "    (() => {\n",
              "      let quickchartButtonEl =\n",
              "        document.querySelector('#df-f13c7ed4-d1b5-4122-896d-d24f0da5531e button');\n",
              "      quickchartButtonEl.style.display =\n",
              "        google.colab.kernel.accessAllowed ? 'block' : 'none';\n",
              "    })();\n",
              "  </script>\n",
              "</div>\n",
              "\n",
              "    </div>\n",
              "  </div>\n"
            ],
            "application/vnd.google.colaboratory.intrinsic+json": {
              "type": "dataframe",
              "summary": "{\n  \"name\": \"data\",\n  \"rows\": 5,\n  \"fields\": [\n    {\n      \"column\": \"Restaurant\",\n      \"properties\": {\n        \"dtype\": \"category\",\n        \"num_unique_values\": 1,\n        \"samples\": [\n          \"Chinese Pavilion\"\n        ],\n        \"semantic_type\": \"\",\n        \"description\": \"\"\n      }\n    },\n    {\n      \"column\": \"Reviewer\",\n      \"properties\": {\n        \"dtype\": \"string\",\n        \"num_unique_values\": 5,\n        \"samples\": [\n          \"Sharad Agrawal\"\n        ],\n        \"semantic_type\": \"\",\n        \"description\": \"\"\n      }\n    },\n    {\n      \"column\": \"Review\",\n      \"properties\": {\n        \"dtype\": \"string\",\n        \"num_unique_values\": 5,\n        \"samples\": [\n          \"place never disappoint us food courteou staff seren ambienc want someth total rice free littl oil serv us steam fish chilli garlic noodl chicken alway awesom thank chines pavilion alway pleasant experi\"\n        ],\n        \"semantic_type\": \"\",\n        \"description\": \"\"\n      }\n    },\n    {\n      \"column\": \"Rating\",\n      \"properties\": {\n        \"dtype\": \"number\",\n        \"std\": 1.1510864433221337,\n        \"min\": 1.5,\n        \"max\": 4.5,\n        \"num_unique_values\": 5,\n        \"samples\": [\n          4.5\n        ],\n        \"semantic_type\": \"\",\n        \"description\": \"\"\n      }\n    },\n    {\n      \"column\": \"Time\",\n      \"properties\": {\n        \"dtype\": \"date\",\n        \"min\": \"2016-05-31 16:41:00\",\n        \"max\": \"2016-06-05 00:08:00\",\n        \"num_unique_values\": 5,\n        \"samples\": [\n          \"2016-06-04 22:01:00\"\n        ],\n        \"semantic_type\": \"\",\n        \"description\": \"\"\n      }\n    },\n    {\n      \"column\": \"Pictures\",\n      \"properties\": {\n        \"dtype\": \"number\",\n        \"std\": 2,\n        \"min\": 0,\n        \"max\": 6,\n        \"num_unique_values\": 3,\n        \"samples\": [\n          0\n        ],\n        \"semantic_type\": \"\",\n        \"description\": \"\"\n      }\n    },\n    {\n      \"column\": \"Sentiment\",\n      \"properties\": {\n        \"dtype\": \"number\",\n        \"std\": 0,\n        \"min\": 0,\n        \"max\": 1,\n        \"num_unique_values\": 2,\n        \"samples\": [\n          0\n        ],\n        \"semantic_type\": \"\",\n        \"description\": \"\"\n      }\n    }\n  ]\n}"
            }
          },
          "metadata": {},
          "execution_count": 29
        }
      ]
    },
    {
      "cell_type": "code",
      "source": [
        "print(data['Sentiment'].value_counts())\n",
        "print(data[data['Rating']<3]['Rating'].count())\n",
        "\n",
        "print(data.query('Rating>3.5 and Sentiment==0'))"
      ],
      "metadata": {
        "colab": {
          "base_uri": "https://localhost:8080/"
        },
        "id": "IpqO_CqiE9BR",
        "outputId": "fa4b0072-d42b-48e2-e0e3-6812fbed1b68"
      },
      "execution_count": 30,
      "outputs": [
        {
          "output_type": "stream",
          "name": "stdout",
          "text": [
            "Sentiment\n",
            "1    6803\n",
            "0    3159\n",
            "Name: count, dtype: int64\n",
            "2448\n",
            "                          Restaurant                     Reviewer  \\\n",
            "59                   Beyond Flavours                Vikas Raikwar   \n",
            "204                         Flechazo             Samujjwal Baruah   \n",
            "276                         Flechazo                      Epicure   \n",
            "280                         Flechazo               Saket Bhukania   \n",
            "301   Shah Ghouse Hotel & Restaurant              Dasthagir Shaik   \n",
            "...                              ...                          ...   \n",
            "9846                        Triptify      Sreelakshmi Padmanabhan   \n",
            "9860                        Triptify          Ramkrishna Kushwaha   \n",
            "9910                Chinese Pavilion             Krishna Peddinti   \n",
            "9943                Chinese Pavilion               Karthik Gandhi   \n",
            "9945                Chinese Pavilion  @FuloriBinaChutneyKaiseBani   \n",
            "\n",
            "                                                 Review  Rating  \\\n",
            "59    time wast tast u r welcom tast realli superb s...     4.0   \n",
            "204   would rate music not play justin bieber song a...     5.0   \n",
            "276   feel veg starter shud improvis mushroom sweetc...     4.0   \n",
            "280   one best place hyderabad plan buffet staff cou...     4.0   \n",
            "301   order chicken fri rice good howev give curri n...     4.0   \n",
            "...                                                 ...     ...   \n",
            "9846                                          need salt     4.0   \n",
            "9860                                         deliv time     5.0   \n",
            "9910  restaur figur ident one bamboo rice honey glaz...     5.0   \n",
            "9943  chines cuisin includ divers style variou part ...     4.5   \n",
            "9945  delight place food star left liter grin ear ea...     5.0   \n",
            "\n",
            "                    Time  Pictures  Sentiment  \n",
            "59   2019-05-15 18:33:00         0          0  \n",
            "204  2019-05-22 16:01:00         0          0  \n",
            "276  2019-04-26 16:45:00         9          0  \n",
            "280  2019-04-25 15:28:00         1          0  \n",
            "301  2019-05-24 21:48:00         0          0  \n",
            "...                  ...       ...        ...  \n",
            "9846 2018-07-22 11:42:00         0          0  \n",
            "9860 2018-07-13 22:22:00         0          0  \n",
            "9910 2017-10-01 05:21:00         0          0  \n",
            "9943 2016-10-11 10:10:00        15          0  \n",
            "9945 2016-09-05 16:43:00         0          0  \n",
            "\n",
            "[584 rows x 7 columns]\n"
          ]
        }
      ]
    },
    {
      "cell_type": "markdown",
      "source": [
        "Classification of ratings on particular restaurant\n"
      ],
      "metadata": {
        "id": "fOKphWeirzC1"
      }
    },
    {
      "cell_type": "code",
      "source": [
        "#Considering Rating as Categorical variable\n",
        "plt.scatter(np.arange(len(data['Rating'])),data['Rating'])"
      ],
      "metadata": {
        "colab": {
          "base_uri": "https://localhost:8080/",
          "height": 447
        },
        "id": "OTRsY0-6r3kH",
        "outputId": "9d5de9fe-08fe-40b9-c8f1-1a95969b6625"
      },
      "execution_count": 31,
      "outputs": [
        {
          "output_type": "execute_result",
          "data": {
            "text/plain": [
              "<matplotlib.collections.PathCollection at 0x7e4f4ca78970>"
            ]
          },
          "metadata": {},
          "execution_count": 31
        },
        {
          "output_type": "display_data",
          "data": {
            "text/plain": [
              "<Figure size 640x480 with 1 Axes>"
            ],
            "image/png": "[encoded data removed]"
          },
          "metadata": {}
        }
      ]
    },
    {
      "cell_type": "code",
      "source": [
        "print(data[data['Restaurant']=='Hotel Zara Hi-Fi']['Rating'].value_counts())\n"
      ],
      "metadata": {
        "colab": {
          "base_uri": "https://localhost:8080/"
        },
        "id": "1Ip7AZ_hA8nh",
        "outputId": "8366402c-0768-4f89-b33c-0bb075cbeb18"
      },
      "execution_count": 32,
      "outputs": [
        {
          "output_type": "stream",
          "name": "stdout",
          "text": [
            "Rating\n",
            "1.0    53\n",
            "5.0    27\n",
            "2.0    11\n",
            "3.0     6\n",
            "4.0     3\n",
            "Name: count, dtype: int64\n"
          ]
        }
      ]
    },
    {
      "cell_type": "code",
      "source": [
        "# Checking for data imbalance\n",
        "from sklearn.utils import resample\n",
        "\n",
        "data1=data[data['Restaurant']=='Hotel Zara Hi-Fi']\n",
        "# Separate majority and minority classes\n",
        "data_majority = data1[data1['Rating'] == 1.0]\n",
        "data_minority_5 = data1[data1['Rating'] == 5.0]\n",
        "data_minority_2 = data1[data1['Rating'] == 2.0]\n",
        "data_minority_3 = data1[data1['Rating'] == 3.0]\n",
        "data_minority_4 = data1[data1['Rating'] == 4.0]\n",
        "\n",
        "data_minority_5_upsampled = resample(data_minority_5,replace=True,n_samples=len(data_majority),random_state=42)\n",
        "data_minority_2_upsampled = resample(data_minority_2,replace=True,n_samples=len(data_majority), random_state=42)\n",
        "data_minority_3_upsampled = resample(data_minority_3,replace=True,n_samples=len(data_majority), random_state=42)\n",
        "data_minority_4_upsampled = resample(data_minority_4,replace=True,n_samples=len(data_majority), random_state=42)\n",
        "\n",
        "\n",
        "data_balanced = pd.concat([data_majority,data_minority_5_upsampled,data_minority_2_upsampled,data_minority_3_upsampled,data_minority_4_upsampled])\n",
        "#print(data_balanced)\n",
        "\n",
        "print(data_balanced['Rating'].value_counts())\n"
      ],
      "metadata": {
        "colab": {
          "base_uri": "https://localhost:8080/"
        },
        "id": "unD-lk3e2IKT",
        "outputId": "d3303190-67a8-41ae-cc13-4c091c2f6201"
      },
      "execution_count": 33,
      "outputs": [
        {
          "output_type": "stream",
          "name": "stdout",
          "text": [
            "Rating\n",
            "1.0    53\n",
            "5.0    53\n",
            "2.0    53\n",
            "3.0    53\n",
            "4.0    53\n",
            "Name: count, dtype: int64\n"
          ]
        }
      ]
    },
    {
      "cell_type": "code",
      "source": [
        "#Decision Tree Classifier\n",
        "\n",
        "data1=data_balanced[['Reviewer','Pictures','Sentiment','Rating']].reset_index(drop=True)\n",
        "#print(data1.head())\n",
        "\n",
        "ct=ColumnTransformer(transformers=[('encoder',OneHotEncoder(sparse=False),['Reviewer'])],remainder='passthrough')\n",
        "#data1[1] is names of reviewers\n",
        "X=np.array(ct.fit_transform(data1[['Reviewer','Pictures','Sentiment']]))\n",
        "y=data1.iloc[:,-1].values\n",
        "\n",
        "lc=LabelEncoder()\n",
        "lc.fit(y)\n",
        "y_new=lc.transform(y)\n",
        "print(lc.classes_)\n",
        "X_train,X_test,y_train,y_test=train_test_split(X,y_new,test_size=0.2,random_state=42)\n",
        "sc=StandardScaler()\n",
        "X_train[:,-1:]=sc.fit_transform(X_train[:,-1:])\n",
        "X_test[:,-1:]=sc.transform(X_test[:,-1:])\n",
        "\n",
        "Dt=DecisionTreeClassifier(criterion='entropy')\n",
        "Dt.fit(X_train,y_train)\n",
        "\n",
        "y_pred=Dt.predict(X_test)\n",
        "print(len(X_test[0]))\n",
        "\n",
        "print(np.concatenate((lc.inverse_transform(y_pred).reshape(len(y_pred),1),lc.inverse_transform(y_test).reshape(len(y_test),1)),axis=1))\n",
        "\n",
        "cm=confusion_matrix(y_test,y_pred)\n",
        "print(cm)\n",
        "print(accuracy_score(y_test, y_pred))\n"
      ],
      "metadata": {
        "colab": {
          "base_uri": "https://localhost:8080/"
        },
        "id": "eYbrus0tsrhI",
        "outputId": "87bdfdbd-5e4c-40ca-f3a4-94aa7deb9578"
      },
      "execution_count": 34,
      "outputs": [
        {
          "output_type": "stream",
          "name": "stdout",
          "text": [
            "[1. 2. 3. 4. 5.]\n",
            "95\n",
            "[[3. 3.]\n",
            " [2. 2.]\n",
            " [5. 5.]\n",
            " [1. 1.]\n",
            " [1. 1.]\n",
            " [2. 2.]\n",
            " [4. 4.]\n",
            " [1. 1.]\n",
            " [3. 3.]\n",
            " [2. 2.]\n",
            " [4. 4.]\n",
            " [3. 3.]\n",
            " [2. 2.]\n",
            " [5. 5.]\n",
            " [3. 3.]\n",
            " [4. 4.]\n",
            " [3. 3.]\n",
            " [3. 3.]\n",
            " [2. 2.]\n",
            " [2. 2.]\n",
            " [5. 5.]\n",
            " [1. 1.]\n",
            " [1. 1.]\n",
            " [3. 3.]\n",
            " [4. 4.]\n",
            " [5. 5.]\n",
            " [5. 5.]\n",
            " [2. 2.]\n",
            " [5. 5.]\n",
            " [3. 3.]\n",
            " [1. 1.]\n",
            " [5. 5.]\n",
            " [2. 2.]\n",
            " [5. 5.]\n",
            " [2. 2.]\n",
            " [5. 5.]\n",
            " [4. 4.]\n",
            " [1. 1.]\n",
            " [1. 1.]\n",
            " [4. 4.]\n",
            " [4. 4.]\n",
            " [1. 1.]\n",
            " [2. 2.]\n",
            " [5. 5.]\n",
            " [4. 4.]\n",
            " [1. 1.]\n",
            " [1. 1.]\n",
            " [2. 2.]\n",
            " [5. 5.]\n",
            " [5. 5.]\n",
            " [4. 4.]\n",
            " [1. 1.]\n",
            " [5. 5.]]\n",
            "[[12  0  0  0  0]\n",
            " [ 0 11  0  0  0]\n",
            " [ 0  0  8  0  0]\n",
            " [ 0  0  0  9  0]\n",
            " [ 0  0  0  0 13]]\n",
            "1.0\n"
          ]
        },
        {
          "output_type": "stream",
          "name": "stderr",
          "text": [
            "/usr/local/lib/python3.10/dist-packages/sklearn/preprocessing/_encoders.py:868: FutureWarning: `sparse` was renamed to `sparse_output` in version 1.2 and will be removed in 1.4. `sparse_output` is ignored unless you leave `sparse` to its default value.\n",
            "  warnings.warn(\n"
          ]
        }
      ]
    },
    {
      "cell_type": "code",
      "source": [
        "# If Sharukh(Reviewer) visits a Hotel zafa hifi and gives a review as 'Good food but could have been better' and uploads 6 pictures the rating he probably gives by decision tree\n",
        "row=['Sharukh',6]\n",
        "string='Good food but could have been better'\n",
        "string=string.lower()\n",
        "string=re.sub('[^a-zA-Z]',' ',string)\n",
        "string=string.split()\n",
        "ps=PorterStemmer()\n",
        "string=[ps.stem(word) for word in string if word not in stop_words]\n",
        "string=' '.join(string)\n",
        "row.append(classifier.predict(cv.transform([string]))[0])\n",
        "print(row)\n",
        "row=pd.DataFrame([row])\n",
        "row.columns=['Reviewer','Pictures','Sentiment']\n",
        "print(lc.inverse_transform(Dt.predict(ct.transform(row))))"
      ],
      "metadata": {
        "colab": {
          "base_uri": "https://localhost:8080/"
        },
        "id": "GLbsp1gERnB-",
        "outputId": "c521093d-c222-4693-8ad6-140a5edd7f92"
      },
      "execution_count": 35,
      "outputs": [
        {
          "output_type": "stream",
          "name": "stdout",
          "text": [
            "['Sharukh', 6, 1]\n",
            "[2]\n"
          ]
        }
      ]
    },
    {
      "cell_type": "code",
      "source": [
        "#Random Forest Classifier\n",
        "rf=RandomForestClassifier(n_estimators=10)\n",
        "rf.fit(X_train,y_train)\n",
        "y_pred=rf.predict(X_test)\n",
        "\n",
        "print(np.concatenate((lc.inverse_transform(y_pred).reshape(len(y_pred),1),lc.inverse_transform(y_test).reshape(len(y_test),1)),axis=1))\n",
        "\n",
        "cm=confusion_matrix(y_test,y_pred)\n",
        "print(cm)\n",
        "print(accuracy_score(y_test, y_pred))\n"
      ],
      "metadata": {
        "colab": {
          "base_uri": "https://localhost:8080/"
        },
        "id": "2yCMuWlJymzh",
        "outputId": "c5e273d7-b0c7-489c-f7a5-d0742df193a3"
      },
      "execution_count": 36,
      "outputs": [
        {
          "output_type": "stream",
          "name": "stdout",
          "text": [
            "[[3. 3.]\n",
            " [2. 2.]\n",
            " [5. 5.]\n",
            " [1. 1.]\n",
            " [1. 1.]\n",
            " [2. 2.]\n",
            " [4. 4.]\n",
            " [1. 1.]\n",
            " [3. 3.]\n",
            " [2. 2.]\n",
            " [4. 4.]\n",
            " [3. 3.]\n",
            " [2. 2.]\n",
            " [5. 5.]\n",
            " [3. 3.]\n",
            " [4. 4.]\n",
            " [3. 3.]\n",
            " [3. 3.]\n",
            " [2. 2.]\n",
            " [2. 2.]\n",
            " [5. 5.]\n",
            " [1. 1.]\n",
            " [1. 1.]\n",
            " [3. 3.]\n",
            " [4. 4.]\n",
            " [5. 5.]\n",
            " [5. 5.]\n",
            " [2. 2.]\n",
            " [5. 5.]\n",
            " [3. 3.]\n",
            " [1. 1.]\n",
            " [5. 5.]\n",
            " [2. 2.]\n",
            " [5. 5.]\n",
            " [2. 2.]\n",
            " [5. 5.]\n",
            " [4. 4.]\n",
            " [1. 1.]\n",
            " [1. 1.]\n",
            " [4. 4.]\n",
            " [4. 4.]\n",
            " [1. 1.]\n",
            " [2. 2.]\n",
            " [5. 5.]\n",
            " [4. 4.]\n",
            " [1. 1.]\n",
            " [1. 1.]\n",
            " [2. 2.]\n",
            " [5. 5.]\n",
            " [5. 5.]\n",
            " [4. 4.]\n",
            " [1. 1.]\n",
            " [5. 5.]]\n",
            "[[12  0  0  0  0]\n",
            " [ 0 11  0  0  0]\n",
            " [ 0  0  8  0  0]\n",
            " [ 0  0  0  9  0]\n",
            " [ 0  0  0  0 13]]\n",
            "1.0\n"
          ]
        }
      ]
    },
    {
      "cell_type": "code",
      "source": [
        "# If Sharukh(Reviewer) visits a Hotel zafa hifi and gives a review as 'Good food but could have been better' and uploads 6 pictures the rating he probably gives by random forest tree\n",
        "print(lc.inverse_transform(rf.predict(ct.transform(row))))"
      ],
      "metadata": {
        "colab": {
          "base_uri": "https://localhost:8080/"
        },
        "id": "NrAr0A9meTzL",
        "outputId": "c744f0c1-f9a1-453c-a8cd-186a9f542342"
      },
      "execution_count": 37,
      "outputs": [
        {
          "output_type": "stream",
          "name": "stdout",
          "text": [
            "[3]\n"
          ]
        }
      ]
    },
    {
      "cell_type": "code",
      "source": [
        "#KNN\n",
        "knn=KNeighborsClassifier(n_neighbors=5)\n",
        "knn.fit(X_train,y_train)\n",
        "y_pred=knn.predict(X_test)\n",
        "\n",
        "print(np.concatenate((lc.inverse_transform(y_pred).reshape(len(y_pred),1),lc.inverse_transform(y_test).reshape(len(y_test),1)),axis=1))\n",
        "\n",
        "cm=confusion_matrix(y_test,y_pred)\n",
        "print(cm)\n",
        "print(accuracy_score(y_test, y_pred))"
      ],
      "metadata": {
        "colab": {
          "base_uri": "https://localhost:8080/"
        },
        "id": "u9TBxHZAQ9w3",
        "outputId": "99771d5f-635f-4f5c-eeda-6afe44b54bf6"
      },
      "execution_count": 38,
      "outputs": [
        {
          "output_type": "stream",
          "name": "stdout",
          "text": [
            "[[3. 3.]\n",
            " [2. 2.]\n",
            " [5. 5.]\n",
            " [3. 1.]\n",
            " [1. 1.]\n",
            " [2. 2.]\n",
            " [4. 4.]\n",
            " [1. 1.]\n",
            " [3. 3.]\n",
            " [2. 2.]\n",
            " [4. 4.]\n",
            " [3. 3.]\n",
            " [2. 2.]\n",
            " [5. 5.]\n",
            " [3. 3.]\n",
            " [4. 4.]\n",
            " [3. 3.]\n",
            " [3. 3.]\n",
            " [2. 2.]\n",
            " [2. 2.]\n",
            " [5. 5.]\n",
            " [1. 1.]\n",
            " [1. 1.]\n",
            " [3. 3.]\n",
            " [4. 4.]\n",
            " [5. 5.]\n",
            " [5. 5.]\n",
            " [2. 2.]\n",
            " [5. 5.]\n",
            " [3. 3.]\n",
            " [1. 1.]\n",
            " [5. 5.]\n",
            " [2. 2.]\n",
            " [5. 5.]\n",
            " [2. 2.]\n",
            " [5. 5.]\n",
            " [4. 4.]\n",
            " [1. 1.]\n",
            " [1. 1.]\n",
            " [4. 4.]\n",
            " [4. 4.]\n",
            " [1. 1.]\n",
            " [2. 2.]\n",
            " [5. 5.]\n",
            " [4. 4.]\n",
            " [1. 1.]\n",
            " [1. 1.]\n",
            " [2. 2.]\n",
            " [5. 5.]\n",
            " [5. 5.]\n",
            " [4. 4.]\n",
            " [1. 1.]\n",
            " [5. 5.]]\n",
            "[[11  0  1  0  0]\n",
            " [ 0 11  0  0  0]\n",
            " [ 0  0  8  0  0]\n",
            " [ 0  0  0  9  0]\n",
            " [ 0  0  0  0 13]]\n",
            "0.9811320754716981\n"
          ]
        }
      ]
    },
    {
      "cell_type": "code",
      "source": [
        "# If Sharukh(Reviewer) visits a Hotel zafa hifi and gives a review as 'Good food but could have been better' and uploads 6 pictures the rating he probably gives by KNN\n",
        "print(lc.inverse_transform(knn.predict(ct.transform(row))))"
      ],
      "metadata": {
        "colab": {
          "base_uri": "https://localhost:8080/"
        },
        "id": "WE0g44NMee1x",
        "outputId": "399e9102-93b9-40bc-f8ae-5c120a403cb6"
      },
      "execution_count": 39,
      "outputs": [
        {
          "output_type": "stream",
          "name": "stdout",
          "text": [
            "[3]\n"
          ]
        }
      ]
    },
    {
      "cell_type": "markdown",
      "source": [
        "Classification and prediction of ratings irrespective of the restaurant"
      ],
      "metadata": {
        "id": "RVG_ZNF3fOwi"
      }
    },
    {
      "cell_type": "code",
      "source": [
        "data['Rating'].value_counts()"
      ],
      "metadata": {
        "colab": {
          "base_uri": "https://localhost:8080/"
        },
        "id": "rKQQmILtfsT1",
        "outputId": "cbc9bb42-59ea-4fca-e657-0d1d25e3f835"
      },
      "execution_count": 40,
      "outputs": [
        {
          "output_type": "execute_result",
          "data": {
            "text/plain": [
              "Rating\n",
              "5.0    3832\n",
              "4.0    2373\n",
              "1.0    1735\n",
              "3.0    1193\n",
              "2.0     684\n",
              "4.5      69\n",
              "3.5      47\n",
              "2.5      20\n",
              "1.5       9\n",
              "Name: count, dtype: int64"
            ]
          },
          "metadata": {},
          "execution_count": 40
        }
      ]
    },
    {
      "cell_type": "code",
      "source": [
        "\n",
        "# Separate majority and minority classes\n",
        "data_majority = data[data['Rating'] == 5.0]\n",
        "data_minority_1 = data[data['Rating'] == 1.0]\n",
        "data_minority_2 = data[data['Rating'] == 2.0]\n",
        "data_minority_3 = data[data['Rating'] == 3.0]\n",
        "data_minority_4 = data[data['Rating'] == 4.0]\n",
        "data_minority_1_5 = data[data['Rating'] == 1.5]\n",
        "data_minority_2_5 = data[data['Rating'] == 2.5]\n",
        "data_minority_3_5 = data[data['Rating'] == 3.5]\n",
        "data_minority_4_5 = data[data['Rating'] == 4.5]\n",
        "\n",
        "data_minority_1_upsampled = resample(data_minority_1,replace=True,n_samples=len(data_majority),random_state=42)\n",
        "data_minority_2_upsampled = resample(data_minority_2,replace=True,n_samples=len(data_majority), random_state=42)\n",
        "data_minority_3_upsampled = resample(data_minority_3,replace=True,n_samples=len(data_majority), random_state=42)\n",
        "data_minority_4_upsampled = resample(data_minority_4,replace=True,n_samples=len(data_majority), random_state=42)\n",
        "data_minority_1_5_upsampled = resample(data_minority_1_5,replace=True,n_samples=len(data_majority), random_state=42)\n",
        "data_minority_2_5_upsampled = resample(data_minority_2_5,replace=True,n_samples=len(data_majority), random_state=42)\n",
        "data_minority_3_5_upsampled = resample(data_minority_3_5,replace=True,n_samples=len(data_majority), random_state=42)\n",
        "data_minority_4_5_upsampled = resample(data_minority_4_5,replace=True,n_samples=len(data_majority), random_state=42)\n",
        "\n",
        "data_balanced = pd.concat([data_majority,data_minority_1_upsampled,data_minority_2_upsampled,data_minority_3_upsampled,data_minority_4_upsampled,data_minority_1_5_upsampled,data_minority_2_5_upsampled,data_minority_3_5_upsampled,data_minority_4_5_upsampled])\n",
        "#print(data_balanced)\n",
        "\n",
        "print(data_balanced['Rating'].value_counts())"
      ],
      "metadata": {
        "colab": {
          "base_uri": "https://localhost:8080/"
        },
        "id": "o9HZPzR5Zway",
        "outputId": "30a9aded-4bfa-4f0d-ca6b-ad1e7786ee9e"
      },
      "execution_count": 44,
      "outputs": [
        {
          "output_type": "stream",
          "name": "stdout",
          "text": [
            "Rating\n",
            "5.0    3832\n",
            "1.0    3832\n",
            "2.0    3832\n",
            "3.0    3832\n",
            "4.0    3832\n",
            "1.5    3832\n",
            "2.5    3832\n",
            "3.5    3832\n",
            "4.5    3832\n",
            "Name: count, dtype: int64\n"
          ]
        }
      ]
    },
    {
      "cell_type": "code",
      "source": [
        "#DT\n",
        "\n",
        "data1=data_balanced[['Reviewer','Pictures','Sentiment','Rating']].reset_index(drop=True)\n",
        "#print(data1.head())\n",
        "\n",
        "ct=ColumnTransformer(transformers=[('encoder',OneHotEncoder(sparse=False),['Reviewer'])],remainder='passthrough')\n",
        "#data1[1] is names of reviewers\n",
        "X=np.array(ct.fit_transform(data1[['Reviewer','Pictures','Sentiment']]))\n",
        "y=data1.iloc[:,-1].values\n",
        "\n",
        "lc=LabelEncoder()\n",
        "lc.fit(y)\n",
        "y_new=lc.transform(y)\n",
        "print(lc.classes_)\n",
        "X_train,X_test,y_train,y_test=train_test_split(X,y_new,test_size=0.2,random_state=42)\n",
        "sc=StandardScaler()\n",
        "X_train[:,-1:]=sc.fit_transform(X_train[:,-1:])\n",
        "X_test[:,-1:]=sc.transform(X_test[:,-1:])\n",
        "\n",
        "Dt=DecisionTreeClassifier(criterion='entropy')\n",
        "Dt.fit(X_train,y_train)\n",
        "\n",
        "y_pred=Dt.predict(X_test)\n",
        "print(len(X_test[0]))\n",
        "\n",
        "print(np.concatenate((lc.inverse_transform(y_pred).reshape(len(y_pred),1),lc.inverse_transform(y_test).reshape(len(y_test),1)),axis=1))\n",
        "\n",
        "cm=confusion_matrix(y_test,y_pred)\n",
        "print(cm)\n",
        "print(accuracy_score(y_test, y_pred))\n"
      ],
      "metadata": {
        "colab": {
          "base_uri": "https://localhost:8080/"
        },
        "id": "9sZIFvNteEQZ",
        "outputId": "fbc52a96-a024-4f04-f505-b4ae71bf34a5"
      },
      "execution_count": 46,
      "outputs": [
        {
          "metadata": {
            "tags": null
          },
          "name": "stderr",
          "output_type": "stream",
          "text": [
            "/usr/local/lib/python3.10/dist-packages/sklearn/preprocessing/_encoders.py:868: FutureWarning: `sparse` was renamed to `sparse_output` in version 1.2 and will be removed in 1.4. `sparse_output` is ignored unless you leave `sparse` to its default value.\n",
            "  warnings.warn(\n"
          ]
        },
        {
          "output_type": "stream",
          "name": "stdout",
          "text": [
            "[1.  1.5 2.  2.5 3.  3.5 4.  4.5 5. ]\n",
            "6991\n",
            "[[3.5 3.5]\n",
            " [2.5 2.5]\n",
            " [1.5 1.5]\n",
            " ...\n",
            " [3.5 3.5]\n",
            " [2.  2. ]\n",
            " [2.  2. ]]\n",
            "[[724   0  11   0  11   0   6   3  16]\n",
            " [  0 759   0   0   0   0   0   0   0]\n",
            " [ 22   1 733   0   4   1   3   0   2]\n",
            " [  0   0   0 763   0   0   0   0   0]\n",
            " [ 24   0  24   0 718   2  21   0  30]\n",
            " [  0   0   0   0   0 758   0   0   0]\n",
            " [ 14   0   5   0  56   3 516   4 121]\n",
            " [  0   0   0   0   0   0   0 779   0]\n",
            " [ 47   0   4   0  16   2  53   2 640]]\n",
            "0.926355465352276\n"
          ]
        }
      ]
    },
    {
      "cell_type": "code",
      "source": [
        "# If Sharukh(Reviewer) visits a hotel and gives a review as 'Good food but could have been better' and uploads 6 pictures the rating he probably gives by decision tree\n",
        "row=['Sharukh',6]\n",
        "string='Good food but could have been better'\n",
        "string=string.lower()\n",
        "string=re.sub('[^a-zA-Z]',' ',string)\n",
        "string=string.split()\n",
        "ps=PorterStemmer()\n",
        "string=[ps.stem(word) for word in string if word not in stop_words]\n",
        "string=' '.join(string)\n",
        "row.append(classifier.predict(cv.transform([string]))[0])\n",
        "print(row)\n",
        "row=pd.DataFrame([row])\n",
        "row.columns=['Reviewer','Pictures','Sentiment']\n",
        "print(lc.inverse_transform(Dt.predict(ct.transform(row))))"
      ],
      "metadata": {
        "colab": {
          "base_uri": "https://localhost:8080/"
        },
        "id": "r-iZJiVUeYxN",
        "outputId": "8b373b55-c0c9-4d23-d24f-a0850cce05d0"
      },
      "execution_count": 48,
      "outputs": [
        {
          "output_type": "stream",
          "name": "stdout",
          "text": [
            "['Sharukh', 6, 1]\n",
            "[4.]\n"
          ]
        }
      ]
    },
    {
      "cell_type": "code",
      "source": [
        "#Random Forest Classifier\n",
        "rf=RandomForestClassifier(n_estimators=10)\n",
        "rf.fit(X_train,y_train)\n",
        "y_pred=rf.predict(X_test)\n",
        "\n",
        "print(np.concatenate((lc.inverse_transform(y_pred).reshape(len(y_pred),1),lc.inverse_transform(y_test).reshape(len(y_test),1)),axis=1))\n",
        "\n",
        "cm=confusion_matrix(y_test,y_pred)\n",
        "print(cm)\n",
        "print(accuracy_score(y_test, y_pred))\n"
      ],
      "metadata": {
        "colab": {
          "base_uri": "https://localhost:8080/"
        },
        "id": "oV6Xyw1ceko8",
        "outputId": "8fab99e4-c1b9-4ed3-e56f-c115e9009940"
      },
      "execution_count": 49,
      "outputs": [
        {
          "output_type": "stream",
          "name": "stdout",
          "text": [
            "[[3.5 3.5]\n",
            " [2.5 2.5]\n",
            " [1.5 1.5]\n",
            " ...\n",
            " [3.5 3.5]\n",
            " [2.  2. ]\n",
            " [2.  2. ]]\n",
            "[[722   0  11   0  12   0   8   3  15]\n",
            " [  0 759   0   0   0   0   0   0   0]\n",
            " [ 27   1 718   0   8   1   8   0   3]\n",
            " [  0   0   0 763   0   0   0   0   0]\n",
            " [ 30   0  22   0 702   2  31   0  32]\n",
            " [  0   0   0   0   0 758   0   0   0]\n",
            " [ 20   0   5   0  53   4 511   4 122]\n",
            " [  0   0   0   0   0   0   0 779   0]\n",
            " [ 49   0   3   0  17   2 115   1 577]]\n",
            "0.9117135401565671\n"
          ]
        }
      ]
    },
    {
      "cell_type": "code",
      "source": [
        "# If Sharukh(Reviewer) visits a Hotel  and gives a review as 'Good food but could have been better' and uploads 6 pictures the rating he probably gives by random forest tree\n",
        "print(lc.inverse_transform(rf.predict(ct.transform(row))))"
      ],
      "metadata": {
        "colab": {
          "base_uri": "https://localhost:8080/"
        },
        "id": "QLqpgGC7epI6",
        "outputId": "73a73a6e-1d37-4f3b-c295-61e732d4405c"
      },
      "execution_count": 50,
      "outputs": [
        {
          "output_type": "stream",
          "name": "stdout",
          "text": [
            "[4.]\n"
          ]
        }
      ]
    },
    {
      "cell_type": "code",
      "source": [
        "#KNN\n",
        "knn=KNeighborsClassifier(n_neighbors=5)\n",
        "knn.fit(X_train,y_train)\n",
        "y_pred=knn.predict(X_test)\n",
        "\n",
        "print(np.concatenate((lc.inverse_transform(y_pred).reshape(len(y_pred),1),lc.inverse_transform(y_test).reshape(len(y_test),1)),axis=1))\n",
        "\n",
        "cm=confusion_matrix(y_test,y_pred)\n",
        "print(cm)\n",
        "print(accuracy_score(y_test, y_pred))"
      ],
      "metadata": {
        "colab": {
          "base_uri": "https://localhost:8080/"
        },
        "id": "zq5zV2kBetSp",
        "outputId": "249bbb60-20ee-4241-e6ba-183ac73e2f79"
      },
      "execution_count": 51,
      "outputs": [
        {
          "output_type": "stream",
          "name": "stdout",
          "text": [
            "[[3.5 3.5]\n",
            " [2.5 2.5]\n",
            " [1.5 1.5]\n",
            " ...\n",
            " [3.5 3.5]\n",
            " [2.  2. ]\n",
            " [2.  2. ]]\n",
            "[[635 103  12   0   6   2   9   3   1]\n",
            " [  0 759   0   0   0   0   0   0   0]\n",
            " [ 25  32 697   0   5   1   5   0   1]\n",
            " [  0   0   0 763   0   0   0   0   0]\n",
            " [ 20  62  28   1 633  19  39   3  14]\n",
            " [  0   0   0   0   0 758   0   0   0]\n",
            " [  7  77   8   6  72  44 478   5  22]\n",
            " [  0   0   0   0   0   0   0 779   0]\n",
            " [  7 544   4  16  23  26 100   2  42]]\n",
            "0.8037112206436648\n"
          ]
        }
      ]
    },
    {
      "cell_type": "code",
      "source": [
        "# If Sharukh(Reviewer) visits a Hotel and gives a review as 'Good food but could have been better' and uploads 6 pictures the rating he probably gives by KNN\n",
        "print(lc.inverse_transform(knn.predict(ct.transform(row))))"
      ],
      "metadata": {
        "colab": {
          "base_uri": "https://localhost:8080/"
        },
        "id": "-PBl1m4wexhC",
        "outputId": "4ec82a2c-2d87-4415-82a2-3feef39bd5a5"
      },
      "execution_count": 52,
      "outputs": [
        {
          "output_type": "stream",
          "name": "stdout",
          "text": [
            "[3.5]\n"
          ]
        }
      ]
    },
    {
      "cell_type": "markdown",
      "source": [
        "Classification and prediction of ratings irrespective of restaurant and reviewer i.e only based on the no of pictures and the sentiment of the review"
      ],
      "metadata": {
        "id": "jAe1N08xiot-"
      }
    },
    {
      "cell_type": "code",
      "source": [
        "#DT\n",
        "\n",
        "data1=data_balanced[['Pictures','Sentiment','Rating']].reset_index(drop=True)\n",
        "#print(data1.head())\n",
        "\n",
        "\n",
        "X=np.array(data1[['Pictures','Sentiment']])\n",
        "y=data1.iloc[:,-1].values\n",
        "\n",
        "lc=LabelEncoder()\n",
        "lc.fit(y)\n",
        "y_new=lc.transform(y)\n",
        "print(lc.classes_)\n",
        "X_train,X_test,y_train,y_test=train_test_split(X,y_new,test_size=0.2,random_state=42)\n",
        "sc=StandardScaler()\n",
        "X_train[:,-1:]=sc.fit_transform(X_train[:,-1:])\n",
        "X_test[:,-1:]=sc.transform(X_test[:,-1:])\n",
        "\n",
        "Dt=DecisionTreeClassifier(criterion='entropy')\n",
        "Dt.fit(X_train,y_train)\n",
        "\n",
        "y_pred=Dt.predict(X_test)\n",
        "print(len(X_test[0]))\n",
        "\n",
        "print(np.concatenate((lc.inverse_transform(y_pred).reshape(len(y_pred),1),lc.inverse_transform(y_test).reshape(len(y_test),1)),axis=1))\n",
        "\n",
        "cm=confusion_matrix(y_test,y_pred)\n",
        "print(cm)\n",
        "print(accuracy_score(y_test, y_pred))\n"
      ],
      "metadata": {
        "colab": {
          "base_uri": "https://localhost:8080/"
        },
        "id": "fMD_7olLi3Km",
        "outputId": "f31ab508-0d29-4109-8a17-fa75fca56b38"
      },
      "execution_count": 53,
      "outputs": [
        {
          "output_type": "stream",
          "name": "stdout",
          "text": [
            "[1.  1.5 2.  2.5 3.  3.5 4.  4.5 5. ]\n",
            "2\n",
            "[[3.5 3.5]\n",
            " [4.  2.5]\n",
            " [1.  1.5]\n",
            " ...\n",
            " [3.5 3.5]\n",
            " [1.  2. ]\n",
            " [1.  2. ]]\n",
            "[[654   1  30   0   0  10   3   1  72]\n",
            " [415  88   0   0   0   0   0   0 256]\n",
            " [532   2  53  14   1  27   9   0 128]\n",
            " [377   0   0 127   0   0  46   0 213]\n",
            " [257  10  30  32   8  47  68   9 358]\n",
            " [ 46   0   0  54   0 244  79   0 335]\n",
            " [ 54   5  11  28   1  42 126  22 430]\n",
            " [ 97  19   0  38   0  30  77  51 467]\n",
            " [ 47   0   1  21   0  13  74   9 599]]\n",
            "0.28269063496665703\n"
          ]
        }
      ]
    },
    {
      "cell_type": "code",
      "source": [
        "# If a Reviewer visits a hotel and gives a review as 'Good food but could have been better' and uploads 6 pictures the rating he probably gives by decision tree\n",
        "row=[6]\n",
        "string='Good food but could have been better'\n",
        "string=string.lower()\n",
        "string=re.sub('[^a-zA-Z]',' ',string)\n",
        "string=string.split()\n",
        "ps=PorterStemmer()\n",
        "string=[ps.stem(word) for word in string if word not in stop_words]\n",
        "string=' '.join(string)\n",
        "row.append(classifier.predict(cv.transform([string]))[0])\n",
        "row=pd.DataFrame([row])\n",
        "row.columns=['Pictures','Sentiment']\n",
        "print(lc.inverse_transform(Dt.predict(row)))"
      ],
      "metadata": {
        "colab": {
          "base_uri": "https://localhost:8080/"
        },
        "id": "zGNWpT4ejR3G",
        "outputId": "af4b55eb-93bc-4c39-cb7e-73fbb67baf1e"
      },
      "execution_count": 55,
      "outputs": [
        {
          "output_type": "stream",
          "name": "stdout",
          "text": [
            "[3.5]\n"
          ]
        },
        {
          "output_type": "stream",
          "name": "stderr",
          "text": [
            "/usr/local/lib/python3.10/dist-packages/sklearn/base.py:432: UserWarning: X has feature names, but DecisionTreeClassifier was fitted without feature names\n",
            "  warnings.warn(\n"
          ]
        }
      ]
    },
    {
      "cell_type": "code",
      "source": [
        "#Random Forest Classifier\n",
        "rf=RandomForestClassifier(n_estimators=10)\n",
        "rf.fit(X_train,y_train)\n",
        "y_pred=rf.predict(X_test)\n",
        "\n",
        "print(np.concatenate((lc.inverse_transform(y_pred).reshape(len(y_pred),1),lc.inverse_transform(y_test).reshape(len(y_test),1)),axis=1))\n",
        "\n",
        "cm=confusion_matrix(y_test,y_pred)\n",
        "print(cm)\n",
        "print(accuracy_score(y_test, y_pred))"
      ],
      "metadata": {
        "colab": {
          "base_uri": "https://localhost:8080/"
        },
        "id": "SJ174iFcjp7o",
        "outputId": "881ad17f-98b7-4483-ba1d-6f98db2dd86d"
      },
      "execution_count": 56,
      "outputs": [
        {
          "output_type": "stream",
          "name": "stdout",
          "text": [
            "[[3.5 3.5]\n",
            " [4.  2.5]\n",
            " [1.  1.5]\n",
            " ...\n",
            " [3.5 3.5]\n",
            " [1.  2. ]\n",
            " [1.  2. ]]\n",
            "[[654   1  30   0   0  10   3   1  72]\n",
            " [415  88   0   0   0   0   0   0 256]\n",
            " [532   2  53  14   1  27   9   0 128]\n",
            " [377   0   0 127   0   0  46   0 213]\n",
            " [257  10  30  32   8  47  68   9 358]\n",
            " [ 46   0   0  54   0 244  79   0 335]\n",
            " [ 54   5  11  28   1  42 126  22 430]\n",
            " [ 97  19   0  38   0  30  77  51 467]\n",
            " [ 47   0   1  21   0  13  74   9 599]]\n",
            "0.28269063496665703\n"
          ]
        }
      ]
    },
    {
      "cell_type": "code",
      "source": [
        "# If a Reviewer visits a hotel and gives a review as 'Good food but could have been better' and uploads 6 pictures the rating he probably gives by random forest classifier\n",
        "print(lc.inverse_transform(rf.predict(row)))"
      ],
      "metadata": {
        "colab": {
          "base_uri": "https://localhost:8080/"
        },
        "id": "hAF6O_Lqjqap",
        "outputId": "fbae386d-8b2e-47d4-9a0e-c9cc6286fe26"
      },
      "execution_count": 57,
      "outputs": [
        {
          "output_type": "stream",
          "name": "stdout",
          "text": [
            "[3.5]\n"
          ]
        },
        {
          "output_type": "stream",
          "name": "stderr",
          "text": [
            "/usr/local/lib/python3.10/dist-packages/sklearn/base.py:432: UserWarning: X has feature names, but RandomForestClassifier was fitted without feature names\n",
            "  warnings.warn(\n"
          ]
        }
      ]
    },
    {
      "cell_type": "code",
      "source": [
        "#KNN\n",
        "knn=KNeighborsClassifier(n_neighbors=5)\n",
        "knn.fit(X_train,y_train)\n",
        "y_pred=knn.predict(X_test)\n",
        "\n",
        "print(np.concatenate((lc.inverse_transform(y_pred).reshape(len(y_pred),1),lc.inverse_transform(y_test).reshape(len(y_test),1)),axis=1))\n",
        "\n",
        "cm=confusion_matrix(y_test,y_pred)\n",
        "print(cm)\n",
        "print(accuracy_score(y_test, y_pred))"
      ],
      "metadata": {
        "colab": {
          "base_uri": "https://localhost:8080/"
        },
        "id": "QrnLk0NXj_WS",
        "outputId": "ac86d565-bfdb-4b4e-9bc7-542ec5a193bc"
      },
      "execution_count": 58,
      "outputs": [
        {
          "output_type": "stream",
          "name": "stdout",
          "text": [
            "[[1.  3.5]\n",
            " [4.  2.5]\n",
            " [2.5 1.5]\n",
            " ...\n",
            " [3.5 3.5]\n",
            " [2.5 2. ]\n",
            " [2.5 2. ]]\n",
            "[[ 37   1   0 654   0   3  75   1   0]\n",
            " [  0  88   0 415   0   0 256   0   0]\n",
            " [ 67   2   3 546   1  10 136   0   1]\n",
            " [  0   0   0 504   0   0 259   0   0]\n",
            " [ 38  10   1 289  11  27 432  11   0]\n",
            " [ 29   0   0 100   0 168 412  49   0]\n",
            " [ 13   5   2  82  11  37 536  31   2]\n",
            " [  0  19   0 135   0  27 532  66   0]\n",
            " [  1   0   0  68   5  20 658  11   1]]\n",
            "0.20498695273992462\n"
          ]
        }
      ]
    },
    {
      "cell_type": "code",
      "source": [
        "# If a Reviewer visits a hotel and gives a review as 'Good food but could have been better' and uploads 6 pictures the rating he probably gives by KNN classifier\n",
        "print(lc.inverse_transform(knn.predict(row)))"
      ],
      "metadata": {
        "colab": {
          "base_uri": "https://localhost:8080/"
        },
        "id": "PdlEpiB9j_jJ",
        "outputId": "854ed283-42e4-492b-9077-e838b69f033e"
      },
      "execution_count": 59,
      "outputs": [
        {
          "output_type": "stream",
          "name": "stdout",
          "text": [
            "[3.5]\n"
          ]
        },
        {
          "output_type": "stream",
          "name": "stderr",
          "text": [
            "/usr/local/lib/python3.10/dist-packages/sklearn/base.py:432: UserWarning: X has feature names, but KNeighborsClassifier was fitted without feature names\n",
            "  warnings.warn(\n"
          ]
        }
      ]
    }
  ],
  "metadata": {
    "kernelspec": {
      "display_name": "base",
      "language": "python",
      "name": "python3"
    },
    "language_info": {
      "codemirror_mode": {
        "name": "ipython",
        "version": 3
      },
      "file_extension": ".py",
      "mimetype": "text/x-python",
      "name": "python",
      "nbconvert_exporter": "python",
      "pygments_lexer": "ipython3",
      "version": "3.11.5"
    },
    "colab": {
      "provenance": []
    }
  },
  "nbformat": 4,
  "nbformat_minor": 0
}